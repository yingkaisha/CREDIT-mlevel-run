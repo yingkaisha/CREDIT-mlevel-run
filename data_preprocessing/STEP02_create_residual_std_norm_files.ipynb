{
 "cells": [
  {
   "cell_type": "markdown",
   "id": "d779c3f3-dd5e-4194-8925-95e37d9660ec",
   "metadata": {},
   "source": [
    "# Create resaidual norm files for CREDIT"
   ]
  },
  {
   "cell_type": "code",
   "execution_count": 1,
   "id": "3e399085-3c08-46c9-8e07-fa7e3e0b63c7",
   "metadata": {},
   "outputs": [],
   "source": [
    "import os\n",
    "import yaml\n",
    "import copy\n",
    "import numpy as np\n",
    "import xarray as xr"
   ]
  },
  {
   "cell_type": "code",
   "execution_count": 2,
   "id": "7ce73a4a-5b8b-4b22-958f-56a7eaa38881",
   "metadata": {},
   "outputs": [],
   "source": [
    "from scipy.stats import gmean"
   ]
  },
  {
   "cell_type": "code",
   "execution_count": 3,
   "id": "6c58f08d-db2c-4606-a52d-93ef9f13bdd9",
   "metadata": {},
   "outputs": [],
   "source": [
    "import matplotlib.pyplot as plt\n",
    "%matplotlib inline"
   ]
  },
  {
   "cell_type": "markdown",
   "id": "2018bd3e-64bd-4953-a58a-06a0cb311c34",
   "metadata": {},
   "source": [
    "## File creation"
   ]
  },
  {
   "cell_type": "markdown",
   "id": "e21cdcff-6ae7-4a36-a68e-9b304dea5a52",
   "metadata": {},
   "source": [
    "### combining 6 hourly std and residual std values"
   ]
  },
  {
   "cell_type": "code",
   "execution_count": 4,
   "id": "94584383-7a21-4e92-95c4-bfa075634cb4",
   "metadata": {},
   "outputs": [],
   "source": [
    "# get variable information from data_preprocessing/config\n",
    "config_name = os.path.realpath('data_config_mlevel_6h.yml')\n",
    "\n",
    "with open(config_name, 'r') as stream:\n",
    "    conf = yaml.safe_load(stream)"
   ]
  },
  {
   "cell_type": "code",
   "execution_count": 5,
   "id": "c4a98422-53f4-4d28-97eb-0f3d79edc223",
   "metadata": {},
   "outputs": [],
   "source": [
    "base_dir = '/glade/derecho/scratch/ksha/CREDIT_data/ERA5_mlevel_1deg/'"
   ]
  },
  {
   "cell_type": "code",
   "execution_count": 6,
   "id": "85e56f44-d922-4281-9b19-8c39206c3962",
   "metadata": {},
   "outputs": [],
   "source": [
    "# get variable names\n",
    "varnames = list(conf['residual'].keys())\n",
    "varnames = varnames[:-5] # remove save_loc and others\n",
    "\n",
    "varname_upper = ['specific_humidity', \n",
    "                 'specific_total_water', \n",
    "                 'temperature', \n",
    "                 'u_component_of_wind',\n",
    "                 'v_component_of_wind']\n",
    "\n",
    "varname_surf = list(set(varnames) - set(varname_upper))"
   ]
  },
  {
   "cell_type": "code",
   "execution_count": 7,
   "id": "04f18eeb-87da-48c8-85ab-49248d70374d",
   "metadata": {},
   "outputs": [],
   "source": [
    "ds_std = xr.open_dataset(base_dir+'mean_std/std_6h_1979_2019_conserve_1deg.nc')\n",
    "ds_residual = xr.open_dataset(base_dir+'mean_std/residual_6h_1979_2019_conserve_1deg.nc')\n",
    "ds_residual_norm = ds_std * ds_residual\n",
    "ds_residual_norm['land_sea_CI_mask'] = 1"
   ]
  },
  {
   "cell_type": "code",
   "execution_count": 8,
   "id": "52b440f6-1f28-4508-bf71-98de19bf116e",
   "metadata": {},
   "outputs": [],
   "source": [
    "ds_residual_norm.to_netcdf(base_dir+'mean_std/std_residual_6h_1979_2019_conserve_1deg.nc')"
   ]
  },
  {
   "cell_type": "code",
   "execution_count": 9,
   "id": "b5ca5c61-6ea6-4a43-a48f-8f810575b9af",
   "metadata": {},
   "outputs": [
    {
     "name": "stdout",
     "output_type": "stream",
     "text": [
      "=============== MSL =================\n",
      "=============== SKT =================\n",
      "=============== SP =================\n",
      "972.4704260909011\n",
      "=============== TCC =================\n",
      "=============== VAR_10U =================\n",
      "8.361986112504633\n",
      "=============== VAR_10V =================\n",
      "9.324341166205867\n",
      "=============== VAR_2T =================\n",
      "9.98030007162668\n",
      "12.423117636668174\n",
      "=============== evaporation =================\n",
      "0.0014193333275894684\n",
      "0.0017667349446151212\n",
      "=============== surface_latent_heat_flux =================\n",
      "3553000.7892109323\n",
      "4422647.260178827\n",
      "=============== surface_net_solar_radiation =================\n",
      "21152261.79426668\n",
      "26329572.724855658\n",
      "=============== surface_net_thermal_radiation =================\n",
      "1665384.3571653862\n",
      "2073010.3935602887\n",
      "=============== surface_sensible_heat_flux =================\n",
      "3742807.396250902\n",
      "4658911.680141309\n",
      "=============== toa_incident_solar_radiation =================\n",
      "39071340.945082575\n",
      "48634596.28464034\n",
      "=============== top_net_solar_radiation =================\n",
      "29442902.92785855\n",
      "36649463.845045656\n",
      "=============== top_net_thermal_radiation =================\n",
      "1587799.3650369737\n",
      "1976435.3930959844\n",
      "=============== total_precipitation =================\n",
      "0.006287617458856465\n",
      "0.007826599479489509\n",
      "=============== land_sea_CI_mask =================\n",
      "1\n",
      "1\n",
      "=============== specific_total_water =================\n",
      "[2.66290770e-07 4.77013208e-07 5.46982915e-07 6.68643924e-07\n",
      " 6.69563213e-07 4.13566351e-07 2.19590262e-07 1.55296211e-07\n",
      " 1.49271196e-07 1.59803429e-07 1.68773410e-07 1.70888758e-07\n",
      " 1.71164140e-07 1.77436248e-07 1.76533596e-07 1.72181981e-07\n",
      " 1.76497160e-07 2.03155588e-07 2.55113701e-07 4.31102039e-07\n",
      " 9.17304811e-07 2.67657629e-06 9.24293921e-06 3.15745146e-05\n",
      " 7.18552212e-05 1.72501743e-04 2.94630344e-04 4.81923430e-04\n",
      " 7.54297675e-04 1.12321609e-03 1.76983196e-03 2.26531682e-03\n",
      " 2.94173894e-03 3.48710528e-03 4.01915758e-03 4.06172685e-03\n",
      " 3.85888837e-03 3.41773463e-03 2.95907392e-03 2.71751010e-03\n",
      " 2.61898852e-03 2.59446563e-03 2.59342590e-03 2.59439821e-03\n",
      " 2.60120066e-03 2.59150454e-03]\n",
      "[3.17569088e-07 1.86302186e-07 1.78274344e-07 1.86167366e-07\n",
      " 2.02547596e-07 2.07888794e-07 2.18403697e-07 2.14177339e-07\n",
      " 2.21725918e-07 2.99332810e-07 7.51653076e-07 2.18315754e-06\n",
      " 6.61835313e-06 1.82462819e-05 4.29931489e-05 8.70501187e-05\n",
      " 1.49744890e-04 3.28209602e-04 6.02409165e-04 9.74651028e-04\n",
      " 1.43308801e-03 1.93798966e-03 2.48953421e-03 2.93790164e-03\n",
      " 3.46074965e-03 3.99555536e-03 4.55283764e-03 4.77065939e-03\n",
      " 4.93693216e-03 5.03953905e-03 5.00816678e-03 4.79273665e-03\n",
      " 4.44830549e-03 4.02939618e-03 3.58908867e-03 3.37615826e-03\n",
      " 3.28720278e-03]\n",
      "=============== specific_humidity =================\n",
      "=============== temperature =================\n",
      "[10.21738479  8.36759084  9.08119925  9.74049262 11.0346734  12.44921845\n",
      " 15.49010099 15.35505035 12.8923375  10.59809189  8.64293642  7.37789746\n",
      "  6.56095741  5.94206312  5.54385761  5.04558002  4.92773759  4.8537832\n",
      "  4.86158553  4.47010757  4.01563953  4.03141864  4.77710326  5.9268392\n",
      "  6.1808415   5.39812199  4.73584948  4.72129385  5.06577883  5.32605517\n",
      "  5.35520465  5.22320978  5.01979805  5.01711217  5.23399467  5.48912547\n",
      "  5.52976943  5.52796057  5.61293874  5.73819734  5.91299622  6.14771172\n",
      "  6.58992331  6.9535937   7.86533951  8.61262942]\n",
      "=============== u_component_of_wind =================\n",
      "[33.27237787 33.10632145 35.97601137 36.79524473 36.354138   35.5024158\n",
      " 34.19950328 28.01662157 22.92810461 19.8108135  17.08738845 14.90626526\n",
      " 13.5056802  12.41321464 11.71278557 10.99932254 10.61198064 10.41656784\n",
      " 10.36217651 10.52286551 10.91802149 11.73557811 13.13285936 15.86199331\n",
      " 18.54432984 21.31443831 21.91854142 21.16719994 19.49048408 17.43158492\n",
      " 14.83140507 13.33371366 12.07841346 11.63462414 11.51621838 11.64660057\n",
      " 11.81461961 12.18276867 12.51023502 12.56754605 12.44974245 12.14137359\n",
      " 11.37239817 10.69937152  9.27732248  8.26786432]\n",
      "=============== v_component_of_wind =================\n",
      "[35.97679227 34.20566303 37.11365735 38.27328741 39.18868507 39.6867795\n",
      " 38.34235928 30.71928616 25.09455923 21.95856585 18.97038285 16.53503344\n",
      " 15.03859112 13.8549206  13.07679696 12.20799014 11.71417202 11.4925976\n",
      " 11.44010113 11.62684603 12.08806448 13.14295947 14.99001363 18.657558\n",
      " 22.24063984 25.85025791 26.60425792 25.66195763 23.59132424 21.04420783\n",
      " 17.74666908 15.77941111 14.0307298  13.32562604 13.01897949 13.16039511\n",
      " 13.41903119 13.94715708 14.31898566 14.33015389 14.12654953 13.70828704\n",
      " 12.75498968 11.95990828 10.34475714  9.23457136]\n"
     ]
    }
   ],
   "source": [
    "# ------------------------------------------------------- #\n",
    "# Compare with my old ones\n",
    "base_dir_plevel = '/glade/derecho/scratch/ksha/CREDIT_data/ERA5_plevel_1deg/'\n",
    "old_std = xr.open_dataset(base_dir_plevel+'mean_std/std_residual_6h_1979_2019_conserve_1deg.nc')\n",
    "new_std = xr.open_dataset(base_dir+'mean_std/std_residual_6h_1979_2019_conserve_1deg.nc')\n",
    "\n",
    "for varname in varnames:\n",
    "    try:\n",
    "        print('=============== {} ================='.format(varname))\n",
    "        print(np.array(new_std[varname]))\n",
    "        print(np.array(old_std[varname]))\n",
    "    except:\n",
    "        pass"
   ]
  },
  {
   "cell_type": "code",
   "execution_count": null,
   "id": "6013bdf6-066a-494a-9ecd-f8598f5aecc2",
   "metadata": {},
   "outputs": [],
   "source": []
  }
 ],
 "metadata": {
  "kernelspec": {
   "display_name": "Python 3 (ipykernel)",
   "language": "python",
   "name": "python3"
  },
  "language_info": {
   "codemirror_mode": {
    "name": "ipython",
    "version": 3
   },
   "file_extension": ".py",
   "mimetype": "text/x-python",
   "name": "python",
   "nbconvert_exporter": "python",
   "pygments_lexer": "ipython3",
   "version": "3.11.9"
  }
 },
 "nbformat": 4,
 "nbformat_minor": 5
}

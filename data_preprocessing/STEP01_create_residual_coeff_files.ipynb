{
 "cells": [
  {
   "cell_type": "markdown",
   "id": "d779c3f3-dd5e-4194-8925-95e37d9660ec",
   "metadata": {},
   "source": [
    "# Create resaidual norm files for CREDIT"
   ]
  },
  {
   "cell_type": "code",
   "execution_count": 1,
   "id": "3e399085-3c08-46c9-8e07-fa7e3e0b63c7",
   "metadata": {},
   "outputs": [],
   "source": [
    "import os\n",
    "import yaml\n",
    "import copy\n",
    "import numpy as np\n",
    "import xarray as xr"
   ]
  },
  {
   "cell_type": "code",
   "execution_count": 2,
   "id": "7ce73a4a-5b8b-4b22-958f-56a7eaa38881",
   "metadata": {},
   "outputs": [],
   "source": [
    "from scipy.stats import gmean"
   ]
  },
  {
   "cell_type": "code",
   "execution_count": 3,
   "id": "6c58f08d-db2c-4606-a52d-93ef9f13bdd9",
   "metadata": {},
   "outputs": [],
   "source": [
    "import matplotlib.pyplot as plt\n",
    "%matplotlib inline"
   ]
  },
  {
   "cell_type": "markdown",
   "id": "2018bd3e-64bd-4953-a58a-06a0cb311c34",
   "metadata": {},
   "source": [
    "## File creation"
   ]
  },
  {
   "cell_type": "code",
   "execution_count": 4,
   "id": "94584383-7a21-4e92-95c4-bfa075634cb4",
   "metadata": {},
   "outputs": [],
   "source": [
    "# get variable information from data_preprocessing/config\n",
    "config_name = os.path.realpath('data_config_mlevel_6h.yml')\n",
    "\n",
    "with open(config_name, 'r') as stream:\n",
    "    conf = yaml.safe_load(stream)"
   ]
  },
  {
   "cell_type": "code",
   "execution_count": 5,
   "id": "a4f6a53b-6efe-478e-a35d-2e1479e6d4e2",
   "metadata": {},
   "outputs": [],
   "source": [
    "N_levels = 46\n",
    "base_dir = '/glade/derecho/scratch/ksha/CREDIT_data/ERA5_mlevel_1deg/'"
   ]
  },
  {
   "cell_type": "code",
   "execution_count": 6,
   "id": "4dafceb5-1621-4622-a78d-078dfdd94cef",
   "metadata": {},
   "outputs": [],
   "source": [
    "# get variable names\n",
    "varnames = list(conf['residual'].keys())\n",
    "varnames = varnames[:-5] # remove save_loc and others\n",
    "\n",
    "varname_upper = ['specific_humidity', \n",
    "                 'specific_total_water', \n",
    "                 'temperature', \n",
    "                 'u_component_of_wind',\n",
    "                 'v_component_of_wind']\n",
    "\n",
    "varname_surf = list(set(varnames) - set(varname_upper))\n",
    "\n",
    "# collect computed mean and variance values\n",
    "# See \"qsub_STEP01_compute_mean_std.ipynb\"\n",
    "MEAN_values = {}\n",
    "STD_values = {}\n",
    "\n",
    "for varname in varname_surf:\n",
    "    save_name = conf['residual']['save_loc'] + '{}_mean_std_{}.npy'.format(\n",
    "        conf['residual']['prefix'], varname)\n",
    "    mean_std = np.load(save_name)\n",
    "    MEAN_values[varname] = mean_std[0]\n",
    "    STD_values[varname] = mean_std[1]\n",
    "\n",
    "for varname in varname_upper:\n",
    "\n",
    "    # -------------------------------------------- #\n",
    "    # allocate all levels\n",
    "    mean_std_all_levels = np.empty((2, N_levels))\n",
    "    mean_std_all_levels[...] = np.nan\n",
    "    \n",
    "    for i_level in range(N_levels):\n",
    "        save_name = conf['residual']['save_loc'] + '{}_level{}_mean_std_{}.npy'.format(\n",
    "            conf['residual']['prefix'], i_level, varname)\n",
    "        mean_std = np.load(save_name)\n",
    "        mean_std_all_levels[:, i_level] = mean_std\n",
    "\n",
    "    # -------------------------------------------- #\n",
    "    # save\n",
    "    MEAN_values[varname] = np.copy(mean_std_all_levels[0, :])\n",
    "    STD_values[varname] = np.copy(mean_std_all_levels[1, :])\n",
    "\n",
    "keys_to_drop = ['TCC', 'MSL', 'SKT', 'specific_humidity', 'land_sea_CI_mask']\n",
    "MEAN_values = {k: v for k, v in MEAN_values.items() if k not in keys_to_drop}\n",
    "STD_values = {k: v for k, v in STD_values.items() if k not in keys_to_drop}"
   ]
  },
  {
   "cell_type": "code",
   "execution_count": 7,
   "id": "6b9660fc-e33e-45e4-a97c-8fb2ef4d31ce",
   "metadata": {},
   "outputs": [],
   "source": [
    "std_val_all = list(STD_values.values())\n",
    "std_val_surf = np.array(std_val_all[:-4])\n",
    "std_val_upper = std_val_all[-4:]"
   ]
  },
  {
   "cell_type": "code",
   "execution_count": 8,
   "id": "42445e40-5034-442a-a41f-b85aa895b631",
   "metadata": {},
   "outputs": [],
   "source": [
    "std_concat = np.concatenate([std_val_surf]+ std_val_upper)\n",
    "std_g = gmean(np.sqrt(std_concat))"
   ]
  },
  {
   "cell_type": "code",
   "execution_count": 9,
   "id": "1d242698-e451-44d2-9c2d-c94b74424373",
   "metadata": {},
   "outputs": [],
   "source": [
    "ds_example = xr.open_zarr(base_dir+'all_in_one/ERA5_mlevel_1deg_6h_subset_1979_conserve.zarr')"
   ]
  },
  {
   "cell_type": "code",
   "execution_count": 10,
   "id": "9bc71d2d-f5f6-4f56-99c4-30f67ffc04d4",
   "metadata": {},
   "outputs": [],
   "source": [
    "# ------------------------------------------------------- #\n",
    "# create xr.DataArray for std\n",
    "# Initialize level coord\n",
    "level = np.array(ds_example['level'])\n",
    "\n",
    "ds_std_6h = xr.Dataset(coords={\"level\": level})\n",
    "\n",
    "for varname, data in STD_values.items():\n",
    "    data = np.sqrt(data) / std_g # <--- var to std and divided by std_g\n",
    "    if len(data.shape) == 1:\n",
    "        data_array = xr.DataArray(\n",
    "            data,\n",
    "            dims=[\"level\",],\n",
    "            coords={\"level\": level},\n",
    "            name=varname,\n",
    "        )\n",
    "        ds_std_6h[varname] = data_array\n",
    "    else:\n",
    "        data_array = xr.DataArray(\n",
    "            data,\n",
    "            name=varname,\n",
    "        )\n",
    "        ds_std_6h[varname] = data_array"
   ]
  },
  {
   "cell_type": "code",
   "execution_count": 18,
   "id": "52b440f6-1f28-4508-bf71-98de19bf116e",
   "metadata": {},
   "outputs": [],
   "source": [
    "ds_std_6h.to_netcdf(base_dir+'mean_std/residual_6h_1979_2019_conserve_1deg.nc')"
   ]
  },
  {
   "cell_type": "code",
   "execution_count": 21,
   "id": "590838a2-23c0-478d-8c5b-e9a62c1d9456",
   "metadata": {},
   "outputs": [
    {
     "data": {
      "text/plain": [
       "'/glade/derecho/scratch/ksha/CREDIT_data/ERA5_mlevel_1deg/mean_std/residual_6h_1979_2019_conserve_1deg.nc'"
      ]
     },
     "execution_count": 21,
     "metadata": {},
     "output_type": "execute_result"
    }
   ],
   "source": [
    "base_dir+'mean_std/residual_6h_1979_2019_conserve_1deg.nc'"
   ]
  },
  {
   "cell_type": "code",
   "execution_count": 20,
   "id": "519a3a4e-f048-4fea-8784-9c5446b06832",
   "metadata": {},
   "outputs": [
    {
     "name": "stdout",
     "output_type": "stream",
     "text": [
      "=============== MSL =================\n",
      "=============== SKT =================\n",
      "=============== SP =================\n",
      "0.10132599531217001\n",
      "=============== TCC =================\n",
      "=============== VAR_10U =================\n",
      "1.523816951849432\n",
      "=============== VAR_10V =================\n",
      "1.9793276525070973\n",
      "=============== VAR_2T =================\n",
      "0.4669417240385481\n",
      "0.5812322200302392\n",
      "=============== evaporation =================\n",
      "2.211363431011042\n",
      "2.752625456520836\n",
      "=============== surface_latent_heat_flux =================\n",
      "2.2148699354345633\n",
      "2.756990226781677\n",
      "=============== surface_net_solar_radiation =================\n",
      "5.019390449726732\n",
      "6.2479562311557375\n",
      "=============== surface_net_thermal_radiation =================\n",
      "2.49941140467327\n",
      "3.1111771870427525\n",
      "=============== surface_sensible_heat_flux =================\n",
      "4.078923303485305\n",
      "5.077296641030351\n",
      "=============== toa_incident_solar_radiation =================\n",
      "5.063505378859014\n",
      "6.302868904142561\n",
      "=============== top_net_solar_radiation =================\n",
      "5.049900196312895\n",
      "6.285933663515951\n",
      "=============== top_net_thermal_radiation =================\n",
      "1.5148534448022455\n",
      "1.8856349420386707\n",
      "=============== total_precipitation =================\n",
      "3.549470372427324\n",
      "4.418252724674436\n",
      "=============== land_sea_CI_mask =================\n",
      "=============== specific_total_water =================\n",
      "[0.50772971 0.60717548 0.67126161 1.02810072 1.8532269  2.25611334\n",
      " 1.38570185 0.68713277 0.52455088 0.49305874 0.49153043 0.49822814\n",
      " 0.52158813 0.58499069 0.59297874 0.5352383  0.49986198 0.53456634\n",
      " 0.61888202 0.83945051 1.38369003 1.49395207 1.45840884 1.55494392\n",
      " 1.63150522 1.64254304 1.59685588 1.57300739 1.56685716 1.54306513\n",
      " 1.44117931 1.37830852 1.33570425 1.27128407 1.15803414 1.02331937\n",
      " 0.89957022 0.7193806  0.56678584 0.49492109 0.4626969  0.45070401\n",
      " 0.44486698 0.44221471 0.43760428 0.43136108]\n",
      "[2.15376088 0.85269313 0.66197571 0.58384063 0.59637813 0.60361102\n",
      " 0.721907   0.6979271  0.61428821 0.73567347 1.32048001 1.84001248\n",
      " 1.75773541 1.81653941 1.91655424 2.01406292 2.03743049 1.9702357\n",
      " 1.9434871  1.93340641 1.89775879 1.79979127 1.71425687 1.6665206\n",
      " 1.64586898 1.57439278 1.49915782 1.44717861 1.3877913  1.3189689\n",
      " 1.22307009 1.09310876 0.94706975 0.79597279 0.653135   0.58321098\n",
      " 0.55661057]\n",
      "=============== specific_humidity =================\n",
      "=============== temperature =================\n",
      "[0.81234696 0.57183175 0.64995479 0.82764955 1.29916645 1.28104728\n",
      " 1.12222481 1.0030115  0.88045745 0.77406849 0.65775194 0.58487641\n",
      " 0.54440251 0.51617741 0.50502579 0.48511285 0.48060692 0.45086319\n",
      " 0.41587886 0.35156402 0.33260978 0.39583249 0.58286358 0.81385191\n",
      " 0.79760062 0.55766845 0.41634    0.37120213 0.37211751 0.37594617\n",
      " 0.3670678  0.35266168 0.32963124 0.32223767 0.32773168 0.33774656\n",
      " 0.33599507 0.32754541 0.32227643 0.32185547 0.32326211 0.3272948\n",
      " 0.33708663 0.34654069 0.3780317  0.40851205]\n",
      "=============== u_component_of_wind =================\n",
      "[1.35561802 1.0895943  0.98260228 0.91862327 0.89912206 0.89978663\n",
      " 0.90614168 0.82019205 0.73989034 0.68844292 0.6362038  0.59153661\n",
      " 0.57081885 0.56410332 0.57754659 0.61234697 0.66961752 0.73931086\n",
      " 0.77880328 0.79773193 0.78341706 0.76941549 0.79343762 0.90229134\n",
      " 1.03320071 1.20662524 1.29892145 1.34390172 1.3454967  1.31921988\n",
      " 1.27560234 1.25588275 1.2625799  1.29440557 1.35903005 1.40519437\n",
      " 1.4328595  1.47798735 1.523348   1.54652629 1.56196486 1.56827608\n",
      " 1.56232274 1.55341343 1.53519139 1.51908408]\n",
      "=============== v_component_of_wind =================\n",
      "[3.27014669 3.05509753 3.14786448 3.0695644  2.85627418 2.69549925\n",
      " 2.61583101 2.2686685  1.97216606 1.80670074 1.65256555 1.54402634\n",
      " 1.51132836 1.50240884 1.5284951  1.56877524 1.62815829 1.67851063\n",
      " 1.68358142 1.63625412 1.54440639 1.48635443 1.48074486 1.59572594\n",
      " 1.74058326 1.92354427 2.0201099  2.06975513 2.07489749 2.04682025\n",
      " 1.98677973 1.94862013 1.93395653 1.95484799 2.01080731 2.05439409\n",
      " 2.07753045 2.10026063 2.0977519  2.08008337 2.05616024 2.03086995\n",
      " 1.9984871  1.98613194 1.98338407 1.98182904]\n"
     ]
    }
   ],
   "source": [
    "# ------------------------------------------------------- #\n",
    "# Compare with my old ones\n",
    "base_dir_plevel = '/glade/derecho/scratch/ksha/CREDIT_data/ERA5_plevel_1deg/'\n",
    "new_std = xr.open_dataset(base_dir+'mean_std/residual_6h_1979_2019_conserve_1deg.nc')\n",
    "old_std = xr.open_dataset(base_dir_plevel+'mean_std/residual_6h_1979_2019_conserve_1deg.nc')\n",
    "\n",
    "for varname in varnames:\n",
    "    try:\n",
    "        print('=============== {} ================='.format(varname))\n",
    "        print(np.array(new_std[varname]))\n",
    "        print(np.array(old_std[varname]))\n",
    "    except:\n",
    "        pass"
   ]
  },
  {
   "cell_type": "code",
   "execution_count": null,
   "id": "772652bc-f21c-453f-adcf-996305856ba6",
   "metadata": {},
   "outputs": [],
   "source": []
  }
 ],
 "metadata": {
  "kernelspec": {
   "display_name": "Python 3 (ipykernel)",
   "language": "python",
   "name": "python3"
  },
  "language_info": {
   "codemirror_mode": {
    "name": "ipython",
    "version": 3
   },
   "file_extension": ".py",
   "mimetype": "text/x-python",
   "name": "python",
   "nbconvert_exporter": "python",
   "pygments_lexer": "ipython3",
   "version": "3.11.9"
  }
 },
 "nbformat": 4,
 "nbformat_minor": 5
}

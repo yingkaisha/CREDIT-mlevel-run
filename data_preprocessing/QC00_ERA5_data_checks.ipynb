{
 "cells": [
  {
   "cell_type": "markdown",
   "id": "94225d6f-7da6-4128-b75f-f7a84ea9f0d4",
   "metadata": {},
   "source": [
    "# Basic checks of CREDIT ERA5 inputs"
   ]
  },
  {
   "cell_type": "code",
   "execution_count": 1,
   "id": "e5c4a10e-85df-4af3-b85a-8c8350e4f512",
   "metadata": {},
   "outputs": [],
   "source": [
    "import numpy as np\n",
    "import xarray as xr\n",
    "from glob import glob"
   ]
  },
  {
   "cell_type": "code",
   "execution_count": 2,
   "id": "54775fef-a06a-41e3-b8f7-69e70e6a9eb5",
   "metadata": {},
   "outputs": [],
   "source": [
    "import matplotlib.pyplot as plt\n",
    "%matplotlib inline"
   ]
  },
  {
   "cell_type": "markdown",
   "id": "ca26e361-e852-4683-a516-fbb14d9ce025",
   "metadata": {},
   "source": [
    "## Variable name and file size consistency checks"
   ]
  },
  {
   "cell_type": "code",
   "execution_count": 3,
   "id": "fb6d782f-95e0-4c95-92a7-37b008e0e3f1",
   "metadata": {},
   "outputs": [],
   "source": [
    "# filenames = sorted(glob('/glade/derecho/scratch/ksha/CREDIT_data/ERA5_plevel_base/upper_air/*.zarr'))\n",
    "\n",
    "# for i_fn, fn in enumerate(filenames):\n",
    "#     try:\n",
    "#         ds_temp = xr.open_zarr(fn)\n",
    "#         # print(list(ds_temp.keys()))\n",
    "#         variable_sizes = [var.size for var_name, var in ds_temp.data_vars.items()]\n",
    "#         print(variable_sizes)\n",
    "#     except:\n",
    "#         print(fn)"
   ]
  },
  {
   "cell_type": "code",
   "execution_count": 4,
   "id": "40cd9ae5-d60b-4caa-94ef-324fe2135c00",
   "metadata": {},
   "outputs": [],
   "source": [
    "# filenames = sorted(glob('/glade/derecho/scratch/ksha/CREDIT_data/ERA5_plevel_base/accum/*.zarr'))\n",
    "\n",
    "# for i_fn, fn in enumerate(filenames):\n",
    "#     try:\n",
    "#         ds_temp = xr.open_zarr(fn)\n",
    "#         # print(list(ds_temp.keys()))\n",
    "#         variable_sizes = [var.size for var_name, var in ds_temp.data_vars.items()]\n",
    "#         print(variable_sizes)\n",
    "#     except:\n",
    "#         print(fn)"
   ]
  },
  {
   "cell_type": "code",
   "execution_count": 5,
   "id": "1cf01514-a8ec-49c3-b85b-2fd87963213b",
   "metadata": {},
   "outputs": [],
   "source": [
    "# filenames = sorted(glob('/glade/derecho/scratch/ksha/CREDIT_data/ERA5_plevel_base/surf/*.zarr'))\n",
    "\n",
    "# for i_fn, fn in enumerate(filenames):\n",
    "#     try:\n",
    "#         ds_temp = xr.open_zarr(fn)\n",
    "#         # print(list(ds_temp.keys()))\n",
    "#         variable_sizes = [var.size for var_name, var in ds_temp.data_vars.items()]\n",
    "#         print(variable_sizes)\n",
    "#     except:\n",
    "#         print(fn)"
   ]
  },
  {
   "cell_type": "markdown",
   "id": "111db59a-a733-4bb3-aeb4-c5460ff9c4a7",
   "metadata": {},
   "source": [
    "## NaN checks"
   ]
  },
  {
   "cell_type": "code",
   "execution_count": 3,
   "id": "5afeec8d-074c-430e-9db2-99e3d26889b5",
   "metadata": {},
   "outputs": [],
   "source": [
    "# def check_nans_ds(ds):\n",
    "#     return ds.to_array().isnull().any().compute().item()\n",
    "#     # return bool(ds.to_array().isnull().any().compute())\n",
    "\n",
    "def check_nans_ds(ds):\n",
    "    nan_vars = []\n",
    "    for var in ds.data_vars:\n",
    "        # Check if there are any NaNs in the variable\n",
    "        if ds[var].isnull().any():\n",
    "            nan_vars.append(var)\n",
    "    return nan_vars"
   ]
  },
  {
   "cell_type": "code",
   "execution_count": 4,
   "id": "6aa49550-4cfa-49e2-809b-22adb23a4d02",
   "metadata": {},
   "outputs": [
    {
     "name": "stdout",
     "output_type": "stream",
     "text": [
      "Dataset does not contain NaNs\n",
      "Dataset does not contain NaNs\n",
      "Dataset does not contain NaNs\n",
      "Dataset does not contain NaNs\n",
      "Dataset does not contain NaNs\n",
      "Dataset does not contain NaNs\n",
      "Dataset does not contain NaNs\n",
      "Dataset does not contain NaNs\n",
      "Dataset does not contain NaNs\n",
      "Dataset does not contain NaNs\n",
      "Dataset does not contain NaNs\n",
      "Dataset does not contain NaNs\n",
      "Dataset does not contain NaNs\n",
      "Dataset does not contain NaNs\n",
      "Dataset does not contain NaNs\n",
      "Dataset does not contain NaNs\n",
      "Dataset does not contain NaNs\n",
      "Dataset does not contain NaNs\n",
      "Dataset does not contain NaNs\n",
      "Dataset does not contain NaNs\n",
      "Dataset does not contain NaNs\n",
      "Dataset does not contain NaNs\n",
      "Dataset does not contain NaNs\n",
      "Dataset does not contain NaNs\n",
      "Dataset does not contain NaNs\n",
      "Dataset does not contain NaNs\n",
      "Dataset does not contain NaNs\n",
      "Dataset does not contain NaNs\n",
      "Dataset does not contain NaNs\n",
      "Dataset does not contain NaNs\n",
      "Dataset does not contain NaNs\n",
      "Dataset does not contain NaNs\n",
      "Dataset does not contain NaNs\n",
      "Dataset does not contain NaNs\n",
      "Dataset does not contain NaNs\n",
      "Dataset does not contain NaNs\n",
      "Dataset does not contain NaNs\n",
      "Dataset does not contain NaNs\n",
      "Dataset does not contain NaNs\n",
      "Dataset does not contain NaNs\n",
      "Dataset does not contain NaNs\n",
      "Dataset does not contain NaNs\n",
      "Dataset does not contain NaNs\n",
      "Dataset does not contain NaNs\n",
      "Dataset does not contain NaNs\n"
     ]
    }
   ],
   "source": [
    "filenames = sorted(\n",
    "    glob('/glade/derecho/scratch/ksha/CREDIT_data/ERA5_mlevel_1deg/upper_air/ERA5_mlevel_1deg_6h_*_conserve.zarr'))\n",
    "\n",
    "for i_fn, fn in enumerate(filenames):\n",
    "    ds_temp = xr.open_zarr(fn)\n",
    "    nan_vars = check_nans_ds(ds_temp)\n",
    "    \n",
    "    if nan_vars:\n",
    "        print('Dataset contains NaNs in the following variables:')\n",
    "        for var in nan_vars:\n",
    "            print(f\"- {nan_vars}\")\n",
    "        print(f\"File: {fn}\")\n",
    "    else:\n",
    "        print('Dataset does not contain NaNs')"
   ]
  },
  {
   "cell_type": "code",
   "execution_count": 5,
   "id": "07d2c007-f702-4e6a-b6c6-633678f92c62",
   "metadata": {},
   "outputs": [
    {
     "name": "stdout",
     "output_type": "stream",
     "text": [
      "Dataset does not contain NaNs\n",
      "Dataset does not contain NaNs\n",
      "Dataset does not contain NaNs\n",
      "Dataset does not contain NaNs\n",
      "Dataset does not contain NaNs\n",
      "Dataset does not contain NaNs\n",
      "Dataset does not contain NaNs\n",
      "Dataset does not contain NaNs\n",
      "Dataset does not contain NaNs\n",
      "Dataset does not contain NaNs\n",
      "Dataset does not contain NaNs\n",
      "Dataset does not contain NaNs\n",
      "Dataset does not contain NaNs\n",
      "Dataset does not contain NaNs\n",
      "Dataset does not contain NaNs\n",
      "Dataset does not contain NaNs\n",
      "Dataset does not contain NaNs\n",
      "Dataset does not contain NaNs\n",
      "Dataset does not contain NaNs\n",
      "Dataset does not contain NaNs\n",
      "Dataset does not contain NaNs\n",
      "Dataset does not contain NaNs\n",
      "Dataset does not contain NaNs\n",
      "Dataset does not contain NaNs\n",
      "Dataset does not contain NaNs\n",
      "Dataset does not contain NaNs\n",
      "Dataset does not contain NaNs\n",
      "Dataset does not contain NaNs\n",
      "Dataset does not contain NaNs\n",
      "Dataset does not contain NaNs\n",
      "Dataset does not contain NaNs\n",
      "Dataset does not contain NaNs\n",
      "Dataset does not contain NaNs\n",
      "Dataset does not contain NaNs\n",
      "Dataset does not contain NaNs\n",
      "Dataset does not contain NaNs\n",
      "Dataset does not contain NaNs\n",
      "Dataset does not contain NaNs\n",
      "Dataset does not contain NaNs\n",
      "Dataset does not contain NaNs\n",
      "Dataset does not contain NaNs\n",
      "Dataset does not contain NaNs\n",
      "Dataset does not contain NaNs\n",
      "Dataset does not contain NaNs\n",
      "Dataset does not contain NaNs\n"
     ]
    }
   ],
   "source": [
    "filenames = sorted(\n",
    "    glob('/glade/derecho/scratch/ksha/CREDIT_data/ERA5_mlevel_1deg/cloud/ERA5_mlevel_1deg_6h_cloud_*_conserve.zarr'))\n",
    "#glob('/glade/derecho/scratch/ksha/CREDIT_data/ERA5_plevel_base/all_in_one/*.zarr'))\n",
    "\n",
    "for i_fn, fn in enumerate(filenames):\n",
    "    ds_temp = xr.open_zarr(fn)\n",
    "    nan_vars = check_nans_ds(ds_temp)\n",
    "    \n",
    "    if nan_vars:\n",
    "        print('Dataset contains NaNs in the following variables:')\n",
    "        for var in nan_vars:\n",
    "            print(f\"- {nan_vars}\")\n",
    "        print(f\"File: {fn}\")\n",
    "    else:\n",
    "        print('Dataset does not contain NaNs')"
   ]
  },
  {
   "cell_type": "code",
   "execution_count": null,
   "id": "5c2bb00c-875f-4132-b4a0-607fc716caeb",
   "metadata": {},
   "outputs": [],
   "source": []
  }
 ],
 "metadata": {
  "kernelspec": {
   "display_name": "Python 3 (ipykernel)",
   "language": "python",
   "name": "python3"
  },
  "language_info": {
   "codemirror_mode": {
    "name": "ipython",
    "version": 3
   },
   "file_extension": ".py",
   "mimetype": "text/x-python",
   "name": "python",
   "nbconvert_exporter": "python",
   "pygments_lexer": "ipython3",
   "version": "3.11.9"
  }
 },
 "nbformat": 4,
 "nbformat_minor": 5
}

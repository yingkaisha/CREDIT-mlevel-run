{
 "cells": [
  {
   "cell_type": "markdown",
   "id": "efa08066-4289-4781-902c-7e83e244857d",
   "metadata": {},
   "source": [
    "# Pre-process ERA5 pressure level data for CREDIT\n",
    "\n",
    "This notebook provides methods on gathering ERA5 pressure level data from NCAR/RDA and ARCO-ERA5. The RDA data requires internal access of the glade file system at NCAR.\n",
    "\n",
    "## Data preparation\n",
    "\n",
    "* 0.25 degree single-level variables were pre-processed from pressure level data. This notebook prepares upper-air variables on model level\n",
    "\n",
    "**References**\n",
    "\n",
    "* NCAR/RDA\n",
    "    * [ERA5 Reanalysis (0.25 Degree Latitude-Longitude Grid)](https://rda.ucar.edu/datasets/d633000/)\n",
    "    * glade storage: `/glade/campaign/collections/rda/data/d633000/`\n",
    "* ARCO-ERA5\n",
    "    * [Google Cloud storage](https://console.cloud.google.com/storage/browser/gcp-public-data-arco-era5)\n",
    "    * [Project page at GitHub](https://github.com/google-research/arco-era5)\n",
    "    * Complete hourly file: `gs://gcp-public-data-arco-era5/ar/full_37-1h-0p25deg-chunk-1.zarr-v3`\n",
    "\n"
   ]
  },
  {
   "cell_type": "code",
   "execution_count": 1,
   "id": "70332162-6c47-4172-a003-326059f10045",
   "metadata": {},
   "outputs": [],
   "source": [
    "import os\n",
    "import sys\n",
    "import yaml\n",
    "import dask\n",
    "import zarr\n",
    "import numpy as np\n",
    "import xarray as xr\n",
    "import pandas as pd\n",
    "from glob import glob\n",
    "from dask.utils import SerializableLock\n",
    "\n",
    "import pandas as pd\n",
    "from datetime import datetime, timedelta\n",
    "from dateutil.relativedelta import relativedelta\n",
    "\n",
    "sys.path.insert(0, os.path.realpath('../libs/'))\n",
    "import verif_utils as vu\n",
    "import interp_utils as iu"
   ]
  },
  {
   "cell_type": "code",
   "execution_count": 2,
   "id": "4f217f9a-f8a5-4798-b055-c26c6f0d7fe1",
   "metadata": {},
   "outputs": [],
   "source": [
    "# import multiprocessing\n",
    "# from dask.distributed import Client\n",
    "# from dask_jobqueue import PBSCluster"
   ]
  },
  {
   "cell_type": "code",
   "execution_count": 3,
   "id": "aa740e32-0024-4dec-b2c9-ce7c7f92f925",
   "metadata": {},
   "outputs": [],
   "source": [
    "import matplotlib.pyplot as plt\n",
    "%matplotlib inline"
   ]
  },
  {
   "cell_type": "code",
   "execution_count": 4,
   "id": "94162458-ac34-44e7-8ad4-f1659ab21b79",
   "metadata": {},
   "outputs": [],
   "source": [
    "def create_hourly_datetime_strings(year):\n",
    "    # Generate hourly date range for the entire year\n",
    "    date_range = pd.date_range(start=f'{year}-01-01T00', end=f'{year}-12-31T23', freq='H')\n",
    "    # Format each datetime to the desired string format\n",
    "    datetime_strings = date_range.strftime('%Y-%m-%dT%H').tolist()\n",
    "    \n",
    "    return datetime_strings"
   ]
  },
  {
   "cell_type": "markdown",
   "id": "8ba058b3-89f8-49b4-9ee7-90b6e77935ac",
   "metadata": {},
   "source": [
    "## Model level coefs"
   ]
  },
  {
   "cell_type": "code",
   "execution_count": 86,
   "id": "efded6ef-a75e-4f67-8827-5dbc0a85c349",
   "metadata": {},
   "outputs": [],
   "source": [
    "values_col1 = [\n",
    "    0, 2.000365, 3.102241, 4.666084, 6.827977, 9.746966, 13.605424, 18.608931, 24.985718, \n",
    "    32.98571, 42.879242, 54.955463, 69.520576, 86.895882, 107.415741, 131.425507, \n",
    "    159.279404, 191.338562, 227.968948, 269.539581, 316.420746, 368.982361, 427.592499, \n",
    "    492.616028, 564.413452, 643.339905, 729.744141, 823.967834, 926.34491, 1037.201172, \n",
    "    1156.853638, 1285.610352, 1423.770142, 1571.622925, 1729.448975, 1897.519287, \n",
    "    2076.095947, 2265.431641, 2465.770508, 2677.348145, 2900.391357, 3135.119385, \n",
    "    3381.743652, 3640.468262, 3911.490479, 4194.930664, 4490.817383, 4799.149414, \n",
    "    5119.89502, 5452.990723, 5798.344727, 6156.074219, 6526.946777, 6911.870605, \n",
    "    7311.869141, 7727.412109, 8159.354004, 8608.525391, 9076.400391, 9562.682617, \n",
    "    10065.97852, 10584.63184, 11116.66211, 11660.06738, 12211.54785, 12766.87305, \n",
    "    13324.66895, 13881.33106, 14432.13965, 14975.61523, 15508.25684, 16026.11523, \n",
    "    16527.32227, 17008.78906, 17467.61328, 17901.62109, 18308.43359, 18685.71875, \n",
    "    19031.28906, 19343.51172, 19620.04297, 19859.39063, 20059.93164, 20219.66406, \n",
    "    20337.86328, 20412.30859, 20442.07813, 20425.71875, 20361.81641, 20249.51172, \n",
    "    20087.08594, 19874.02539, 19608.57227, 19290.22656, 18917.46094, 18489.70703, \n",
    "    18006.92578, 17471.83984, 16888.6875, 16262.04688, 15596.69531, 14898.45313, \n",
    "    14173.32422, 13427.76953, 12668.25781, 11901.33984, 11133.30469, 10370.17578, \n",
    "    9617.515625, 8880.453125, 8163.375, 7470.34375, 6804.421875, 6168.53125, \n",
    "    5564.382813, 4993.796875, 4457.375, 3955.960938, 3489.234375, 3057.265625, \n",
    "    2659.140625, 2294.242188, 1961.5, 1659.476563, 1387.546875, 1143.25, \n",
    "    926.507813, 734.992188, 568.0625, 424.414063, 302.476563, 202.484375, \n",
    "    122.101563, 62.78125, 22.835938, 3.757813, 0, 0\n",
    "]\n",
    "values_col2 = [\n",
    "    0, 0, 0, 0, 0, 0, 0, 0, 0, 0, 0, 0, 0, 0, 0, 0, 0, 0, 0, 0, 0, 0, 0, 0, \n",
    "    0, 0, 0, 0, 0, 0, 0, 0, 0, 0, 0, 0, 0, 0, 0, 0, 0, 0, 0, 0, 0, 0, 0, \n",
    "    0, 0, 0, 0, 0, 0, 0, 0, 0.000007, 0.000024, 0.000059, 0.000112, 0.000199, \n",
    "    0.00034, 0.000562, 0.00089, 0.001353, 0.001992, 0.002857, 0.003971, \n",
    "    0.005378, 0.007133, 0.009261, 0.011806, 0.014816, 0.018318, 0.022355, \n",
    "    0.026964, 0.032176, 0.038026, 0.044548, 0.051773, 0.059728, 0.068448, \n",
    "    0.077958, 0.088286, 0.099462, 0.111505, 0.124448, 0.138313, 0.153125, \n",
    "    0.16891, 0.185689, 0.203491, 0.222333, 0.242244, 0.263242, 0.285354, \n",
    "    0.308598, 0.332939, 0.358254, 0.384363, 0.411125, 0.438391, 0.466003, \n",
    "    0.4938, 0.521619, 0.549301, 0.576692, 0.603648, 0.630036, 0.655736, \n",
    "    0.680643, 0.704669, 0.727739, 0.749797, 0.770798, 0.790717, 0.809536, \n",
    "    0.827256, 0.843881, 0.859432, 0.873929, 0.887408, 0.8999, 0.911448, \n",
    "    0.922096, 0.931881, 0.94086, 0.949064, 0.95655, 0.963352, 0.969513, \n",
    "    0.975078, 0.980072, 0.984542, 0.9885, 0.991984, 0.995003, 0.99763, 1\n",
    "]\n",
    "\n",
    "# Convert to two 1D numpy arrays\n",
    "coef_a = np.array(values_col1)\n",
    "coef_b = np.array(values_col2)"
   ]
  },
  {
   "cell_type": "code",
   "execution_count": 87,
   "id": "e6e1eb51-ee52-4fe1-935a-7d7096afcd59",
   "metadata": {},
   "outputs": [],
   "source": [
    "# p_half = coef_a + coef_b*101325\n",
    "# p_level = 0.5*(p_half[1:] + p_half[:-1])/100"
   ]
  },
  {
   "cell_type": "code",
   "execution_count": 100,
   "id": "5c1863ff-6b00-4cdd-a852-4c8edfbcdd19",
   "metadata": {},
   "outputs": [],
   "source": [
    "config_name = os.path.realpath('data_config_mlevel_6h.yml')\n",
    "\n",
    "with open(config_name, 'r') as stream:\n",
    "    conf = yaml.safe_load(stream)\n",
    "\n",
    "# save to zarr\n",
    "base_dir = conf['zarr_opt']['save_loc_1deg'] + 'static/'\n",
    "if not os.path.exists(base_dir):\n",
    "    os.makedirs(base_dir)"
   ]
  },
  {
   "cell_type": "code",
   "execution_count": 111,
   "id": "11d0a5f2-ad96-4157-96ce-d8de1125dff1",
   "metadata": {},
   "outputs": [],
   "source": [
    "levels = np.arange(1, 139).astype(np.float32)\n",
    "# Create the xarray.Dataset with `coef_a` and `coef_b` as variables\n",
    "ds = xr.Dataset({\n",
    "    'coef_a': (['half_level'], coef_a),\n",
    "    'coef_b': (['half_level'], coef_b)\n",
    "}, coords={'half_level': levels})"
   ]
  },
  {
   "cell_type": "code",
   "execution_count": 112,
   "id": "86e4ec7a-9f3d-4ae7-9564-f5d19aac46bd",
   "metadata": {},
   "outputs": [],
   "source": [
    "fn_static = '/glade/derecho/scratch/ksha/CREDIT_data/ERA5_plevel_1deg/static/ERA5_plevel_1deg_6h_conserve_static.zarr'\n",
    "ds_static_plevel = xr.open_zarr(fn_static)\n",
    "\n",
    "# Drop the 'level' dimension, coordinate, and any variables associated with it from `ds_static_plevel`\n",
    "ds_static_plevel = ds_static_plevel.drop_dims('level', errors='ignore').drop_vars('level', errors='ignore')\n",
    "\n",
    "# Drop all variables that include the 'level' dimension\n",
    "ds_static_plevel = ds_static_plevel.drop_vars(\n",
    "    [var for var in ds_static_plevel if 'level' in ds_static_plevel[var].dims])"
   ]
  },
  {
   "cell_type": "code",
   "execution_count": 113,
   "id": "7d6103ec-f43b-48e8-94dd-fc41979a8026",
   "metadata": {},
   "outputs": [],
   "source": [
    "ds_static_mlevel = xr.merge([ds_static_plevel, ds])"
   ]
  },
  {
   "cell_type": "code",
   "execution_count": 115,
   "id": "6e5272e6-ed9b-419c-95a2-b34d4b9307de",
   "metadata": {},
   "outputs": [],
   "source": [
    "# ================================================================================== #\n",
    "# chunk\n",
    "varnames = list(ds_static_mlevel.keys())\n",
    "varnames = varnames[:-2] # subtract coef a b\n",
    "\n",
    "for i_var, var in enumerate(varnames):\n",
    "    ds_static_mlevel[var] = ds_static_mlevel[var].chunk({'latitude': 181, 'longitude': 360})\n",
    "\n",
    "# zarr encodings\n",
    "dict_encoding = {}\n",
    "\n",
    "chunk_size_2d = dict(chunks=(conf['zarr_opt']['chunk_size_3d_1deg']['latitude'],\n",
    "                             conf['zarr_opt']['chunk_size_3d_1deg']['longitude']))\n",
    "\n",
    "compress = zarr.Blosc(cname='zstd', clevel=1, shuffle=zarr.Blosc.SHUFFLE, blocksize=0)\n",
    "\n",
    "for i_var, var in enumerate(varnames):\n",
    "    dict_encoding[var] = {'compressor': compress, **chunk_size_2d}"
   ]
  },
  {
   "cell_type": "code",
   "execution_count": 116,
   "id": "a3e57e6d-f7fb-466c-97b4-24e59a76e96c",
   "metadata": {},
   "outputs": [
    {
     "data": {
      "text/plain": [
       "<xarray.backends.zarr.ZarrStore at 0x1508c3292880>"
      ]
     },
     "execution_count": 116,
     "metadata": {},
     "output_type": "execute_result"
    }
   ],
   "source": [
    "save_name = base_dir + 'ERA5_mlevel_1deg_6h_conserve_static.zarr'\n",
    "# ds_static_mlevel.to_zarr(save_name, mode='w', consolidated=True, compute=True, encoding=dict_encoding)"
   ]
  },
  {
   "cell_type": "markdown",
   "id": "0068fbd7-18c4-496a-a1f7-c63f26c59544",
   "metadata": {},
   "source": [
    "## Upper-air variables"
   ]
  },
  {
   "cell_type": "markdown",
   "id": "36abe181-24fb-4e75-b0a3-f2717eb721e3",
   "metadata": {},
   "source": [
    "**ARCO**\n",
    "\n",
    "* Hourly data from `gs://gcp-public-data-arco-era5/ar/model-level-1h-0p25deg.zarr-v1/`"
   ]
  },
  {
   "cell_type": "code",
   "execution_count": 4,
   "id": "c90f4e20-8ae2-4f47-a9ff-9ed2b3ab6a7d",
   "metadata": {},
   "outputs": [],
   "source": [
    "year = 1979\n",
    "N_days = 366 if year % 4 == 0 else 365\n",
    "\n",
    "config_name = os.path.realpath('data_config_mlevel_6h.yml')\n",
    "\n",
    "with open(config_name, 'r') as stream:\n",
    "    conf = yaml.safe_load(stream)\n",
    "\n",
    "# save to zarr\n",
    "base_dir = conf['zarr_opt']['save_loc_1deg'] + 'upper_air/source/' \n",
    "if not os.path.exists(base_dir):\n",
    "    os.makedirs(base_dir)\n",
    "\n",
    "variables_levels = {}\n",
    "for varname in conf['ARCO']['varname_upper_air']:\n",
    "    variables_levels[varname] = None"
   ]
  },
  {
   "cell_type": "code",
   "execution_count": 14,
   "id": "73b9bcbe-09c8-40eb-9e24-810a6bec4211",
   "metadata": {},
   "outputs": [
    {
     "name": "stdout",
     "output_type": "stream",
     "text": [
      "/glade/derecho/scratch/ksha/CREDIT_data/ERA5_mlevel_1deg/upper_air/source/ERA5_mlevel_1deg_1979-01-01T00_conserve.nc Exist\n",
      "/glade/derecho/scratch/ksha/CREDIT_data/ERA5_mlevel_1deg/upper_air/source/ERA5_mlevel_1deg_1979-01-01T06_conserve.nc Exist\n",
      "Save to /glade/derecho/scratch/ksha/CREDIT_data/ERA5_mlevel_1deg/upper_air/source/ERA5_mlevel_1deg_1979-01-01T12_conserve.nc\n"
     ]
    }
   ],
   "source": [
    "ERA5_1h = xr.open_zarr(\n",
    "    \"gs://gcp-public-data-arco-era5/ar/model-level-1h-0p25deg.zarr-v1/\",\n",
    "    chunks=None,\n",
    "    consolidated=True,\n",
    "    storage_options=dict(token='anon'),)\n",
    "\n",
    "hourly_datetimes = create_hourly_datetime_strings(year)\n",
    "N_time_gap = 3 #len(hourly_datetimes)//6\n",
    "\n",
    "for i in range(N_time_gap):\n",
    "    time_pick = hourly_datetimes[6*i]\n",
    "\n",
    "    save_name = base_dir + 'ERA5_mlevel_1deg_{}_conserve.nc'.format(time_pick)\n",
    "    try:\n",
    "        ds_test = xr.open_dataset(save_name)\n",
    "        ds_test.close()\n",
    "        print('{} Exist'.format(save_name))\n",
    "    except:\n",
    "        ERA5_6h = ERA5_1h.sel(time=time_pick)\n",
    "    \n",
    "\n",
    "        \n",
    "        ERA5_6h_save = vu.ds_subset_everything(ERA5_6h, variables_levels)\n",
    "        ERA5_6h_save = ERA5_6h_save.rename({'hybrid': 'level',})\n",
    "        ds_merge = ERA5_6h_save\n",
    "        \n",
    "        # ======================================================================================= #\n",
    "        # 0.25 deg to 1 deg interpolation using conservative approach\n",
    "        if i == 0:\n",
    "            # Define the target 1-degree grid\n",
    "            lon_1deg = np.arange(0, 360, 1)\n",
    "            lat_1deg = np.arange(-90, 91, 1)\n",
    "            target_grid = iu.Grid.from_degrees(lon_1deg, lat_1deg)\n",
    "            \n",
    "            lon_025deg = ds_merge['longitude'].values\n",
    "            lat_025deg = ds_merge['latitude'].values[::-1]\n",
    "            source_grid = iu.Grid.from_degrees(lon_025deg, lat_025deg)\n",
    "            \n",
    "            regridder = iu.ConservativeRegridder(source=source_grid, target=target_grid)\n",
    "        \n",
    "        ds_merge = ds_merge.chunk({'longitude': -1, 'latitude': -1})\n",
    "        ds_merge_1deg = regridder.regrid_dataset(ds_merge)\n",
    "        \n",
    "        # Reorder the dimensions for all variables in ds_merge_1deg\n",
    "        for var in ds_merge_1deg.data_vars:\n",
    "            # Get the current dimensions of the variable\n",
    "            current_dims = ds_merge_1deg[var].dims\n",
    "            \n",
    "            # If both 'latitude' and 'longitude' are present, reorder them\n",
    "            if 'latitude' in current_dims and 'longitude' in current_dims:\n",
    "                # New order: move 'latitude' and 'longitude' to the first two positions, preserve other dimensions\n",
    "                new_order = [dim for dim in current_dims if dim not in ['latitude', 'longitude']] + ['latitude', 'longitude']\n",
    "                \n",
    "                # Transpose the variable to the new order\n",
    "                ds_merge_1deg[var] = ds_merge_1deg[var].transpose(*new_order)\n",
    "        \n",
    "        lon_1deg = np.arange(0, 360, 1)\n",
    "        lat_1deg = np.arange(-90, 91, 1)\n",
    "        \n",
    "        # Add latitude and longitude as coordinates to ds_merge_1deg\n",
    "        ds_merge_1deg = ds_merge_1deg.assign_coords({\n",
    "            'latitude': lat_1deg,\n",
    "            'longitude': lon_1deg\n",
    "        })\n",
    "        \n",
    "        # flip latitude from -90 --> 90 to 90 --> -90\n",
    "        ds_merge_1deg = ds_merge_1deg.isel(latitude=slice(None, None, -1))\n",
    "        \n",
    "        # float64 --> float32\n",
    "        ds_merge_1deg = ds_merge_1deg.astype(\n",
    "            {var: np.float32 for var in ds_merge_1deg if ds_merge_1deg[var].dtype == np.float64})\n",
    "    \n",
    "        # Convert latitude, longitude, and level coordinates to float32\n",
    "        ds_merge_1deg = ds_merge_1deg.assign_coords({\n",
    "            'latitude': ds_merge_1deg['latitude'].astype(np.float32),\n",
    "            'longitude': ds_merge_1deg['longitude'].astype(np.float32),\n",
    "            'level': ds_merge_1deg['level'].astype(np.float32)\n",
    "        })\n",
    "        \n",
    "        # ds_merge_1deg.to_netcdf(save_name, mode='w', compute=True)\n",
    "        print('Save to {}'.format(save_name))"
   ]
  },
  {
   "cell_type": "markdown",
   "id": "1f3fc9bb-2883-45f9-b5e6-287d594baefb",
   "metadata": {},
   "source": [
    "### Check quality"
   ]
  },
  {
   "cell_type": "code",
   "execution_count": 8,
   "id": "c9e1c22d-8e8c-465a-a160-63fd59257ebe",
   "metadata": {},
   "outputs": [],
   "source": [
    "ERA5_1h = xr.open_zarr(\n",
    "    \"gs://gcp-public-data-arco-era5/ar/model-level-1h-0p25deg.zarr-v1/\",\n",
    "    chunks=None,\n",
    "    consolidated=True,\n",
    "    storage_options=dict(token='anon'),)\n",
    "\n",
    "hourly_datetimes = create_hourly_datetime_strings(year)\n",
    "N_time_gap = 3 #len(hourly_datetimes)//6\n",
    "\n",
    "i = 0\n",
    "time_pick = hourly_datetimes[6*i]\n",
    "save_name = base_dir + 'ERA5_mlevel_1deg_{}_conserve.nc'.format(time_pick)\n",
    "ds_test = xr.open_dataset(save_name)"
   ]
  },
  {
   "cell_type": "code",
   "execution_count": 9,
   "id": "688db446-5b40-47d2-b7c1-3372d36d998e",
   "metadata": {},
   "outputs": [],
   "source": [
    "# ERA5_6h = ERA5_1h.sel(time=time_pick)\n",
    "# ERA5_6h_save = vu.ds_subset_everything(ERA5_6h, variables_levels)\n",
    "# ERA5_6h_save = ERA5_6h_save.rename({'hybrid': 'level',})\n",
    "# ds_merge = ERA5_6h_save"
   ]
  },
  {
   "cell_type": "code",
   "execution_count": 25,
   "id": "a94a5eae-1590-4993-8b18-66f0706e10c8",
   "metadata": {},
   "outputs": [
    {
     "data": {
      "text/plain": [
       "<matplotlib.colorbar.Colorbar at 0x14d77f6ebcd0>"
      ]
     },
     "execution_count": 25,
     "metadata": {},
     "output_type": "execute_result"
    },
    {
     "data": {
      "image/png": "[encoded data removed]",
      "text/plain": [
       "<Figure size 640x480 with 2 Axes>"
      ]
     },
     "metadata": {},
     "output_type": "display_data"
    }
   ],
   "source": [
    "T = ds_test['temperature'].isel(level=136).values\n",
    "\n",
    "lon = ds_test['longitude'].values\n",
    "lat = ds_test['latitude'].values\n",
    "\n",
    "plt.pcolormesh(lon, lat, T, cmap=plt.cm.jet)\n",
    "plt.colorbar()"
   ]
  },
  {
   "cell_type": "markdown",
   "id": "3d543515-0997-48f3-a6bf-946c8e451008",
   "metadata": {},
   "source": [
    "### Combine single nc files"
   ]
  },
  {
   "cell_type": "code",
   "execution_count": 50,
   "id": "2ac2ce09-cdc0-47b0-84be-a6d266ad7f76",
   "metadata": {},
   "outputs": [],
   "source": [
    "year = 1979\n",
    "N_days = 366 if year % 4 == 0 else 365\n",
    "\n",
    "config_name = os.path.realpath('data_config_mlevel_6h.yml')\n",
    "\n",
    "with open(config_name, 'r') as stream:\n",
    "    conf = yaml.safe_load(stream)"
   ]
  },
  {
   "cell_type": "code",
   "execution_count": 51,
   "id": "8267adc2-54a4-45af-a7a7-ed11540fdcbb",
   "metadata": {},
   "outputs": [],
   "source": [
    "# save to zarr\n",
    "source_dir = conf['zarr_opt']['save_loc_1deg'] + 'upper_air/source/' \n",
    "base_dir = conf['zarr_opt']['save_loc_1deg'] + 'upper_air/' \n",
    "if not os.path.exists(base_dir):\n",
    "    os.makedirs(base_dir)"
   ]
  },
  {
   "cell_type": "code",
   "execution_count": null,
   "id": "a446078b-fd28-48bf-996a-983edb8dce12",
   "metadata": {},
   "outputs": [],
   "source": [
    "hourly_datetimes = create_hourly_datetime_strings(year)\n",
    "N_time_gap = len(hourly_datetimes)//6\n",
    "\n",
    "file_collection = []\n",
    "\n",
    "for i in range(N_time_gap):\n",
    "    time_pick = hourly_datetimes[6*i]\n",
    "    \n",
    "    save_name = source_dir + 'ERA5_mlevel_1deg_{}_conserve.nc'.format(time_pick)\n",
    "    \n",
    "    file_collection.append(xr.open_dataset(save_name))\n",
    "\n",
    "ds_merge_1deg = xr.concat(file_collection, dim='time')\n",
    "\n",
    "# ========================================================================== #\n",
    "# chunking\n",
    "\n",
    "varnames = list(ds_merge_1deg.keys())\n",
    "\n",
    "for i_var, var in enumerate(varnames):\n",
    "    ds_merge_1deg[var] = ds_merge_1deg[var].chunk(conf['zarr_opt']['chunk_size_4d_1deg'])\n",
    "\n",
    "# zarr encodings\n",
    "dict_encoding = {}\n",
    "\n",
    "chunk_size_4d = dict(chunks=(conf['zarr_opt']['chunk_size_4d_1deg']['time'],\n",
    "                             conf['zarr_opt']['chunk_size_4d_1deg']['level'],\n",
    "                             conf['zarr_opt']['chunk_size_4d_1deg']['latitude'],\n",
    "                             conf['zarr_opt']['chunk_size_4d_1deg']['longitude']))\n",
    "\n",
    "compress = zarr.Blosc(cname='zstd', clevel=1, shuffle=zarr.Blosc.SHUFFLE, blocksize=0)\n",
    "\n",
    "for i_var, var in enumerate(varnames):\n",
    "    dict_encoding[var] = {'compressor': compress, **chunk_size_4d}\n",
    "\n",
    "save_name = base_dir + 'ERA5_mlevel_1deg_6h_{}_conserve.zarr'.format(year)\n",
    "# ds_merge_1deg.to_zarr(save_name, mode='w', consolidated=True, compute=True, encoding=dict_encoding)"
   ]
  },
  {
   "cell_type": "markdown",
   "id": "28d1626d-878a-4d21-96b5-1a26cdb925aa",
   "metadata": {},
   "source": [
    "## Cloud & humidity variables"
   ]
  },
  {
   "cell_type": "code",
   "execution_count": 5,
   "id": "96fe1d8f-2d6b-4d3f-9b05-19ff9f71b39f",
   "metadata": {},
   "outputs": [],
   "source": [
    "year = 1979\n",
    "N_days = 366 if year % 4 == 0 else 365\n",
    "\n",
    "config_name = os.path.realpath('data_config_mlevel_6h.yml')\n",
    "\n",
    "with open(config_name, 'r') as stream:\n",
    "    conf = yaml.safe_load(stream)\n",
    "\n",
    "# save to zarr\n",
    "base_dir = conf['zarr_opt']['save_loc_1deg'] + 'cloud/source/' \n",
    "if not os.path.exists(base_dir):\n",
    "    os.makedirs(base_dir)\n",
    "\n",
    "variables_levels = {}\n",
    "varnames = ['specific_cloud_ice_water_content', \n",
    "            'specific_cloud_liquid_water_content',\n",
    "            'specific_rain_water_content', \n",
    "            'specific_snow_water_content']\n",
    "\n",
    "for varname in varnames:\n",
    "    variables_levels[varname] = None"
   ]
  },
  {
   "cell_type": "code",
   "execution_count": 49,
   "id": "74a720c5-9fc6-4ed5-8b44-c2a0c6346eb2",
   "metadata": {},
   "outputs": [
    {
     "name": "stdout",
     "output_type": "stream",
     "text": [
      "/glade/derecho/scratch/ksha/CREDIT_data/ERA5_mlevel_1deg/cloud/source/ERA5_mlevel_1deg_cloud_1979-01-01T00_conserve.nc Exist\n",
      "/glade/derecho/scratch/ksha/CREDIT_data/ERA5_mlevel_1deg/cloud/source/ERA5_mlevel_1deg_cloud_1979-01-01T06_conserve.nc Exist\n",
      "/glade/derecho/scratch/ksha/CREDIT_data/ERA5_mlevel_1deg/cloud/source/ERA5_mlevel_1deg_cloud_1979-01-01T12_conserve.nc Exist\n"
     ]
    }
   ],
   "source": [
    "ERA5_1h = xr.open_zarr(\n",
    "    \"gs://gcp-public-data-arco-era5/ar/model-level-1h-0p25deg.zarr-v1/\",\n",
    "    chunks=None,\n",
    "    consolidated=True,\n",
    "    storage_options=dict(token='anon'),)\n",
    "\n",
    "hourly_datetimes = create_hourly_datetime_strings(year)\n",
    "N_time_gap = 3 #len(hourly_datetimes)//6\n",
    "\n",
    "for i in range(N_time_gap):\n",
    "    time_pick = hourly_datetimes[6*i]\n",
    "\n",
    "    save_name = base_dir + 'ERA5_mlevel_1deg_cloud_{}_conserve.nc'.format(time_pick)\n",
    "    try:\n",
    "        ds_test = xr.open_dataset(save_name)\n",
    "        ds_test.close()\n",
    "        print('{} Exist'.format(save_name))\n",
    "    except:\n",
    "        ERA5_6h = ERA5_1h.sel(time=time_pick)\n",
    "        ERA5_6h_save = vu.ds_subset_everything(ERA5_6h, variables_levels)\n",
    "        ERA5_6h_save = ERA5_6h_save.rename({'hybrid': 'level',})\n",
    "        ds_merge = ERA5_6h_save\n",
    "        \n",
    "        # ======================================================================================= #\n",
    "        # 0.25 deg to 1 deg interpolation using conservative approach\n",
    "        if i == 0:\n",
    "            # Define the target 1-degree grid\n",
    "            lon_1deg = np.arange(0, 360, 1)\n",
    "            lat_1deg = np.arange(-90, 91, 1)\n",
    "            target_grid = iu.Grid.from_degrees(lon_1deg, lat_1deg)\n",
    "            \n",
    "            lon_025deg = ds_merge['longitude'].values\n",
    "            lat_025deg = ds_merge['latitude'].values[::-1]\n",
    "            source_grid = iu.Grid.from_degrees(lon_025deg, lat_025deg)\n",
    "            \n",
    "            regridder = iu.ConservativeRegridder(source=source_grid, target=target_grid)\n",
    "        \n",
    "        ds_merge = ds_merge.chunk({'longitude': -1, 'latitude': -1})\n",
    "        ds_merge_1deg = regridder.regrid_dataset(ds_merge)\n",
    "        \n",
    "        # Reorder the dimensions for all variables in ds_merge_1deg\n",
    "        for var in ds_merge_1deg.data_vars:\n",
    "            # Get the current dimensions of the variable\n",
    "            current_dims = ds_merge_1deg[var].dims\n",
    "            \n",
    "            # If both 'latitude' and 'longitude' are present, reorder them\n",
    "            if 'latitude' in current_dims and 'longitude' in current_dims:\n",
    "                # New order: move 'latitude' and 'longitude' to the first two positions, preserve other dimensions\n",
    "                new_order = [dim for dim in current_dims if dim not in ['latitude', 'longitude']] + ['latitude', 'longitude']\n",
    "                \n",
    "                # Transpose the variable to the new order\n",
    "                ds_merge_1deg[var] = ds_merge_1deg[var].transpose(*new_order)\n",
    "        \n",
    "        lon_1deg = np.arange(0, 360, 1)\n",
    "        lat_1deg = np.arange(-90, 91, 1)\n",
    "        \n",
    "        # Add latitude and longitude as coordinates to ds_merge_1deg\n",
    "        ds_merge_1deg = ds_merge_1deg.assign_coords({\n",
    "            'latitude': lat_1deg,\n",
    "            'longitude': lon_1deg\n",
    "        })\n",
    "        \n",
    "        # flip latitude from -90 --> 90 to 90 --> -90\n",
    "        ds_merge_1deg = ds_merge_1deg.isel(latitude=slice(None, None, -1))\n",
    "        \n",
    "        # float64 --> float32\n",
    "        ds_merge_1deg = ds_merge_1deg.astype(\n",
    "            {var: np.float32 for var in ds_merge_1deg if ds_merge_1deg[var].dtype == np.float64})\n",
    "    \n",
    "        # Convert latitude, longitude, and level coordinates to float32\n",
    "        ds_merge_1deg = ds_merge_1deg.assign_coords({\n",
    "            'latitude': ds_merge_1deg['latitude'].astype(np.float32),\n",
    "            'longitude': ds_merge_1deg['longitude'].astype(np.float32),\n",
    "            'level': ds_merge_1deg['level'].astype(np.float32)\n",
    "        })\n",
    "        \n",
    "        ds_merge_1deg.to_netcdf(save_name, mode='w', compute=True)\n",
    "        print('Save to {}'.format(save_name))"
   ]
  },
  {
   "cell_type": "markdown",
   "id": "00e313f2-ba41-4167-a808-037321c55db7",
   "metadata": {},
   "source": [
    "### Check quality"
   ]
  },
  {
   "cell_type": "code",
   "execution_count": 7,
   "id": "7de5fe2a-907f-467e-9f8c-a6b990ccf080",
   "metadata": {},
   "outputs": [],
   "source": [
    "hourly_datetimes = create_hourly_datetime_strings(year)\n",
    "i = 4\n",
    "time_pick = hourly_datetimes[6*i]\n",
    "save_name = base_dir + 'ERA5_mlevel_1deg_cloud_{}_conserve.nc'.format(time_pick)\n",
    "ds_test = xr.open_dataset(save_name)"
   ]
  },
  {
   "cell_type": "code",
   "execution_count": 11,
   "id": "2dbe2c27-8e8e-4c25-9835-0461a66cfa33",
   "metadata": {},
   "outputs": [
    {
     "data": {
      "text/plain": [
       "<matplotlib.colorbar.Colorbar at 0x1508e24774d0>"
      ]
     },
     "execution_count": 11,
     "metadata": {},
     "output_type": "execute_result"
    },
    {
     "data": {
      "image/png": "[encoded data removed]",
      "text/plain": [
       "<Figure size 640x480 with 2 Axes>"
      ]
     },
     "metadata": {},
     "output_type": "display_data"
    }
   ],
   "source": [
    "T = ds_test['specific_cloud_liquid_water_content'].isel(level=90).values\n",
    "\n",
    "lon = ds_test['longitude'].values\n",
    "lat = ds_test['latitude'].values\n",
    "\n",
    "plt.pcolormesh(lon, lat, T, cmap=plt.cm.jet)\n",
    "plt.colorbar()"
   ]
  },
  {
   "cell_type": "code",
   "execution_count": 15,
   "id": "65b0e722-dd7f-4fb4-bf95-609456f7efad",
   "metadata": {},
   "outputs": [],
   "source": [
    "# ERA5_1h = xr.open_zarr(\n",
    "#     \"gs://gcp-public-data-arco-era5/ar/model-level-1h-0p25deg.zarr-v1/\",\n",
    "#     chunks=None,\n",
    "#     consolidated=True,\n",
    "#     storage_options=dict(token='anon'),)\n",
    "\n",
    "# ERA5_6h = ERA5_1h.sel(time=time_pick)\n",
    "# ERA5_6h_save = vu.ds_subset_everything(ERA5_6h, variables_levels)\n",
    "# ERA5_6h_save = ERA5_6h_save.rename({'hybrid': 'level',})\n",
    "# ds_merge = ERA5_6h_save"
   ]
  },
  {
   "cell_type": "code",
   "execution_count": 16,
   "id": "4684a002-5698-4532-82ac-cf8e024d7507",
   "metadata": {},
   "outputs": [],
   "source": [
    "# T = ds_merge['specific_cloud_liquid_water_content'].isel(level=90).values\n",
    "\n",
    "# lon = ds_merge['longitude'].values\n",
    "# lat = ds_merge['latitude'].values\n",
    "\n",
    "# plt.pcolormesh(lon, lat, T, cmap=plt.cm.jet)\n",
    "# plt.colorbar()"
   ]
  },
  {
   "cell_type": "markdown",
   "id": "c34ffd24-03bd-44d9-8741-301aa5d82005",
   "metadata": {},
   "source": [
    "### Combine single nc files"
   ]
  },
  {
   "cell_type": "code",
   "execution_count": 43,
   "id": "77f2db48-fcc4-4040-aed8-a974a09f35c6",
   "metadata": {},
   "outputs": [],
   "source": [
    "year = 2007\n",
    "N_days = 366 if year % 4 == 0 else 365\n",
    "\n",
    "config_name = os.path.realpath('data_config_mlevel_6h.yml')\n",
    "\n",
    "with open(config_name, 'r') as stream:\n",
    "    conf = yaml.safe_load(stream)"
   ]
  },
  {
   "cell_type": "code",
   "execution_count": 44,
   "id": "68a638bb-61fb-48f5-89ba-24cbad1fb1db",
   "metadata": {},
   "outputs": [],
   "source": [
    "# save to zarr\n",
    "source_dir = conf['zarr_opt']['save_loc_1deg'] + 'cloud/source/' \n",
    "base_dir = conf['zarr_opt']['save_loc_1deg'] + 'cloud/' \n",
    "if not os.path.exists(base_dir):\n",
    "    os.makedirs(base_dir)"
   ]
  },
  {
   "cell_type": "code",
   "execution_count": 45,
   "id": "246893db-159c-4d74-87ee-6dbb087e9af2",
   "metadata": {},
   "outputs": [],
   "source": [
    "hourly_datetimes = create_hourly_datetime_strings(year)\n",
    "N_time_gap = len(hourly_datetimes)//6\n",
    "\n",
    "file_collection = []\n",
    "\n",
    "for i in range(N_time_gap):\n",
    "    time_pick = hourly_datetimes[6*i]\n",
    "    \n",
    "    save_name = source_dir + 'ERA5_mlevel_1deg_cloud_{}_conserve.nc'.format(time_pick)\n",
    "    \n",
    "    file_collection.append(xr.open_dataset(save_name))\n",
    "\n",
    "ds_merge_1deg = xr.concat(file_collection, dim='time')\n",
    "\n",
    "# ========================================================================== #\n",
    "# chunking\n",
    "\n",
    "varnames = list(ds_merge_1deg.keys())\n",
    "\n",
    "for i_var, var in enumerate(varnames):\n",
    "    ds_merge_1deg[var] = ds_merge_1deg[var].chunk(conf['zarr_opt']['chunk_size_4d_1deg'])\n",
    "\n",
    "# zarr encodings\n",
    "dict_encoding = {}\n",
    "\n",
    "chunk_size_4d = dict(chunks=(conf['zarr_opt']['chunk_size_4d_1deg']['time'],\n",
    "                             conf['zarr_opt']['chunk_size_4d_1deg']['level'],\n",
    "                             conf['zarr_opt']['chunk_size_4d_1deg']['latitude'],\n",
    "                             conf['zarr_opt']['chunk_size_4d_1deg']['longitude']))\n",
    "\n",
    "compress = zarr.Blosc(cname='zstd', clevel=1, shuffle=zarr.Blosc.SHUFFLE, blocksize=0)\n",
    "\n",
    "for i_var, var in enumerate(varnames):\n",
    "    dict_encoding[var] = {'compressor': compress, **chunk_size_4d}\n",
    "\n",
    "save_name = base_dir + 'ERA5_mlevel_1deg_6h_cloud_{}_conserve.zarr'.format(year)\n",
    "# ds_merge_1deg.to_zarr(save_name, mode='w', consolidated=True, compute=True, encoding=dict_encoding)"
   ]
  },
  {
   "cell_type": "code",
   "execution_count": 21,
   "id": "6391b860-1f1c-4353-9b7e-bd7a180cf4a4",
   "metadata": {},
   "outputs": [
    {
     "data": {
      "text/plain": [
       "<xarray.backends.zarr.ZarrStore at 0x1508e10a2c00>"
      ]
     },
     "execution_count": 21,
     "metadata": {},
     "output_type": "execute_result"
    }
   ],
   "source": [
    "# ds_merge_1deg.to_zarr(save_name, mode='w', consolidated=True, compute=True, encoding=dict_encoding)"
   ]
  },
  {
   "cell_type": "markdown",
   "id": "2c6373a2-45e9-41c2-88fa-de310d100a48",
   "metadata": {},
   "source": [
    "## Final quality checks"
   ]
  },
  {
   "cell_type": "markdown",
   "id": "a43d3027-df35-4240-bdea-843e521b103f",
   "metadata": {},
   "source": [
    "**Coordinate value NaNs**"
   ]
  },
  {
   "cell_type": "code",
   "execution_count": null,
   "id": "b9c8a71f-12dc-46b6-8021-5df92d734707",
   "metadata": {},
   "outputs": [],
   "source": [
    "# debug NaN\n",
    "# for i, ds in enumerate(file_collection):\n",
    "#     if ds['longitude'].to_index().duplicated().any():\n",
    "#         print(\"NaN found in longitude\")\n",
    "#         print(i)"
   ]
  },
  {
   "cell_type": "markdown",
   "id": "c6195a70-3c40-4998-b987-0bedae2e2629",
   "metadata": {},
   "source": [
    "**Consistency between plevel and mlevel files**"
   ]
  },
  {
   "cell_type": "code",
   "execution_count": 8,
   "id": "804d4b49-f091-4b3e-adb6-79612d4a0ab4",
   "metadata": {},
   "outputs": [],
   "source": [
    "def check_dimension_consistency(ds_plevel, ds_mlevel, ds_cloud, dim):\n",
    "    \"\"\"Check if the specified dimension is consistent across three datasets.\"\"\"\n",
    "    return (ds_plevel[dim] == ds_mlevel[dim]).all() and (ds_mlevel[dim] == ds_cloud[dim]).all()"
   ]
  },
  {
   "cell_type": "code",
   "execution_count": 9,
   "id": "afca0e06-056f-464c-91bd-41537a8b9b22",
   "metadata": {},
   "outputs": [
    {
     "name": "stdout",
     "output_type": "stream",
     "text": [
      "Year 1979 pass\n",
      "Year 1980 pass\n",
      "Year 1981 pass\n",
      "Year 1982 pass\n",
      "Year 1983 pass\n",
      "Year 1984 pass\n",
      "Year 1985 pass\n",
      "Year 1986 pass\n",
      "Year 1987 pass\n",
      "Year 1988 pass\n",
      "Year 1989 pass\n",
      "Year 1990 pass\n",
      "Year 1991 pass\n",
      "Year 1992 pass\n",
      "Year 1993 pass\n",
      "Year 1994 pass\n",
      "Year 1995 pass\n",
      "Year 1996 pass\n",
      "Year 1997 pass\n",
      "Year 1998 pass\n",
      "Year 1999 pass\n",
      "Year 2000 pass\n",
      "Year 2001 pass\n",
      "Year 2002 pass\n",
      "Year 2003 pass\n",
      "Year 2004 pass\n",
      "Year 2005 pass\n",
      "Year 2006 pass\n",
      "Year 2007 pass\n",
      "Year 2008 pass\n",
      "Year 2009 pass\n",
      "Year 2010 pass\n",
      "Year 2011 pass\n",
      "Year 2012 pass\n",
      "Year 2013 pass\n",
      "Year 2014 pass\n",
      "Year 2015 pass\n",
      "Year 2016 pass\n",
      "Year 2017 pass\n",
      "Year 2018 pass\n",
      "Year 2019 pass\n",
      "Year 2020 pass\n",
      "Year 2021 pass\n",
      "Year 2022 pass\n",
      "Year 2023 pass\n"
     ]
    }
   ],
   "source": [
    "base_dir_plevel = '/glade/derecho/scratch/ksha/CREDIT_data/ERA5_plevel_1deg/'\n",
    "base_dir_mlevel = '/glade/derecho/scratch/ksha/CREDIT_data/ERA5_mlevel_1deg/'\n",
    "\n",
    "for year in np.arange(1979, 2024):\n",
    "\n",
    "    filename_ERA5 = base_dir_plevel + f'all_in_one/ERA5_plevel_1deg_6h_{year}_conserve.zarr'\n",
    "    ds_plevel = xr.open_zarr(filename_ERA5)\n",
    "    \n",
    "    filename_ERA5 = base_dir_mlevel + f'upper_air/ERA5_mlevel_1deg_6h_{year}_conserve.zarr'\n",
    "    ds_mlevel = xr.open_zarr(filename_ERA5)\n",
    "    \n",
    "    filename_cloud = base_dir_mlevel + f'cloud/ERA5_mlevel_1deg_6h_cloud_{year}_conserve.zarr'\n",
    "    ds_cloud = xr.open_zarr(filename_cloud)\n",
    "    \n",
    "    # Check each dimension for consistency\n",
    "    flag_time = check_dimension_consistency(ds_plevel, ds_mlevel, ds_cloud, 'time')\n",
    "    flag_lon = check_dimension_consistency(ds_plevel, ds_mlevel, ds_cloud, 'longitude')\n",
    "    flag_lat = check_dimension_consistency(ds_plevel, ds_mlevel, ds_cloud, 'latitude')\n",
    "    \n",
    "    # Validate all flags and print appropriate message\n",
    "    if flag_time and flag_lon and flag_lat:\n",
    "        print(f'Year {year} pass')\n",
    "    else:\n",
    "        # Raise informative errors based on the failed flag\n",
    "        if not flag_time:\n",
    "            raise ValueError(\"Time dimensions are not consistent across datasets.\")\n",
    "        if not flag_lon:\n",
    "            raise ValueError(\"Longitude dimensions are not consistent across datasets.\")\n",
    "        if not flag_lat:\n",
    "            raise ValueError(\"Latitude dimensions are not consistent across datasets.\")"
   ]
  },
  {
   "cell_type": "code",
   "execution_count": null,
   "id": "91f29940-ad24-4cde-b38e-94fa74db37b1",
   "metadata": {},
   "outputs": [],
   "source": []
  }
 ],
 "metadata": {
  "kernelspec": {
   "display_name": "Python 3 (ipykernel)",
   "language": "python",
   "name": "python3"
  },
  "language_info": {
   "codemirror_mode": {
    "name": "ipython",
    "version": 3
   },
   "file_extension": ".py",
   "mimetype": "text/x-python",
   "name": "python",
   "nbconvert_exporter": "python",
   "pygments_lexer": "ipython3",
   "version": "3.11.9"
  }
 },
 "nbformat": 4,
 "nbformat_minor": 5
}

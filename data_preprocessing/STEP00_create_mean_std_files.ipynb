{
 "cells": [
  {
   "cell_type": "markdown",
   "id": "d779c3f3-dd5e-4194-8925-95e37d9660ec",
   "metadata": {},
   "source": [
    "# Create z-score files for CREDIT"
   ]
  },
  {
   "cell_type": "code",
   "execution_count": 1,
   "id": "3e399085-3c08-46c9-8e07-fa7e3e0b63c7",
   "metadata": {},
   "outputs": [],
   "source": [
    "import os\n",
    "import yaml\n",
    "import numpy as np\n",
    "import xarray as xr"
   ]
  },
  {
   "cell_type": "markdown",
   "id": "2018bd3e-64bd-4953-a58a-06a0cb311c34",
   "metadata": {},
   "source": [
    "## File creation"
   ]
  },
  {
   "cell_type": "markdown",
   "id": "e21cdcff-6ae7-4a36-a68e-9b304dea5a52",
   "metadata": {},
   "source": [
    "### 6 hourly mean std files"
   ]
  },
  {
   "cell_type": "code",
   "execution_count": 3,
   "id": "94a10bbc-3f2f-4fb6-ab17-aa44c75a69d2",
   "metadata": {},
   "outputs": [],
   "source": [
    "# get variable information from data_preprocessing/config\n",
    "config_name = os.path.realpath('data_config_mlevel_6h.yml')\n",
    "\n",
    "with open(config_name, 'r') as stream:\n",
    "    conf = yaml.safe_load(stream)"
   ]
  },
  {
   "cell_type": "code",
   "execution_count": 5,
   "id": "0684ddd2-2532-4da3-968c-f9d9ca01ff5a",
   "metadata": {},
   "outputs": [],
   "source": [
    "N_levels = 46\n",
    "base_dir = '/glade/derecho/scratch/ksha/CREDIT_data/ERA5_mlevel_1deg/'"
   ]
  },
  {
   "cell_type": "code",
   "execution_count": 6,
   "id": "4bd94aa0-ce0d-46aa-827f-b748f7bec225",
   "metadata": {},
   "outputs": [],
   "source": [
    "# get variable names\n",
    "varnames = list(conf['zscore'].keys())\n",
    "varnames = varnames[:-3] # remove save_loc and others\n",
    "\n",
    "varname_upper = ['specific_humidity', \n",
    "                 'specific_total_water', \n",
    "                 'temperature', \n",
    "                 'u_component_of_wind',\n",
    "                 'v_component_of_wind']\n",
    "\n",
    "varname_surf = list(set(varnames) - set(varname_upper))\n",
    "\n",
    "\n",
    "# collect computed mean and variance values\n",
    "# See \"qsub_STEP01_compute_mean_std.ipynb\"\n",
    "MEAN_values = {}\n",
    "STD_values = {}\n",
    "\n",
    "for varname in varname_surf:\n",
    "    save_name = conf['zscore']['save_loc'] + '{}_mean_std_{}.npy'.format(conf['zscore']['prefix'], varname)\n",
    "    mean_std = np.load(save_name)\n",
    "    MEAN_values[varname] = mean_std[0]\n",
    "    STD_values[varname] = mean_std[1]\n",
    "\n",
    "for varname in varname_upper:\n",
    "\n",
    "    # -------------------------------------------- #\n",
    "    # allocate all levels\n",
    "    mean_std_all_levels = np.empty((2, N_levels))\n",
    "    mean_std_all_levels[...] = np.nan\n",
    "    \n",
    "    for i_level in range(N_levels):\n",
    "        save_name = conf['zscore']['save_loc'] + '{}_level{}_mean_std_{}.npy'.format(conf['zscore']['prefix'], i_level, varname)\n",
    "        mean_std = np.load(save_name)\n",
    "        mean_std_all_levels[:, i_level] = mean_std\n",
    "\n",
    "    # -------------------------------------------- #\n",
    "    # save\n",
    "    MEAN_values[varname] = np.copy(mean_std_all_levels[0, :])\n",
    "    STD_values[varname] = np.copy(mean_std_all_levels[1, :])"
   ]
  },
  {
   "cell_type": "code",
   "execution_count": 7,
   "id": "3fd9cdd3-eb48-4bdc-b917-dad54924b1d7",
   "metadata": {},
   "outputs": [],
   "source": [
    "ds_example = xr.open_zarr(base_dir+'all_in_one/ERA5_mlevel_1deg_6h_subset_1979_conserve.zarr')"
   ]
  },
  {
   "cell_type": "code",
   "execution_count": 8,
   "id": "e7976bd4-5d6f-4608-aea0-8d8ecffe479d",
   "metadata": {},
   "outputs": [],
   "source": [
    "# ------------------------------------------------------- #\n",
    "# create xr.DataArray for mean\n",
    "\n",
    "# Initialize level coord\n",
    "level = np.array(ds_example['level'])\n",
    "\n",
    "# Initialize dataset\n",
    "ds_mean_6h = xr.Dataset(coords={\"level\": level})\n",
    "\n",
    "for varname, data in MEAN_values.items():\n",
    "    if len(data.shape) == 1:\n",
    "        data_array = xr.DataArray(\n",
    "            data,\n",
    "            dims=[\"level\",],\n",
    "            coords={\"level\": level},\n",
    "            name=varname,\n",
    "        )\n",
    "        ds_mean_6h[varname] = data_array\n",
    "    else:\n",
    "        data_array = xr.DataArray(\n",
    "            data,\n",
    "            name=varname,\n",
    "        )\n",
    "        ds_mean_6h[varname] = data_array"
   ]
  },
  {
   "cell_type": "code",
   "execution_count": 9,
   "id": "702c76a0-e6e4-4bce-ac72-e20160877be6",
   "metadata": {},
   "outputs": [],
   "source": [
    "# ------------------------------------------------------- #\n",
    "# create xr.DataArray for std\n",
    "\n",
    "# use the same level coord as mean\n",
    "ds_std_6h = xr.Dataset(coords={\"level\": level})\n",
    "\n",
    "for varname, data in STD_values.items():\n",
    "    data = np.sqrt(data)\n",
    "    if len(data.shape) == 1:\n",
    "        data_array = xr.DataArray(\n",
    "            data,\n",
    "            dims=[\"level\",],\n",
    "            coords={\"level\": level},\n",
    "            name=varname,\n",
    "        )\n",
    "        ds_std_6h[varname] = data_array\n",
    "    else:\n",
    "        data_array = xr.DataArray(\n",
    "            data,\n",
    "            name=varname,\n",
    "        )\n",
    "        ds_std_6h[varname] = data_array"
   ]
  },
  {
   "cell_type": "code",
   "execution_count": 10,
   "id": "ddaac9f5-5b03-4e24-9d03-027afb9f8ef4",
   "metadata": {},
   "outputs": [],
   "source": [
    "ds_mean_6h['land_sea_CI_mask'] = 0.0\n",
    "# ds_std_6h['land_sea_CI_mask'] = 1.0"
   ]
  },
  {
   "cell_type": "code",
   "execution_count": 11,
   "id": "a1e7cd24-8d5c-4440-9008-c4abc1fcc9ac",
   "metadata": {},
   "outputs": [],
   "source": [
    "# ------------------------------------------------------- #\n",
    "# Same to netCDF\n",
    "ds_mean_6h.to_netcdf(base_dir+'mean_std/mean_6h_1979_2019_conserve_1deg.nc')\n",
    "ds_std_6h.to_netcdf(base_dir+'mean_std/std_6h_1979_2019_conserve_1deg.nc')"
   ]
  },
  {
   "cell_type": "code",
   "execution_count": 17,
   "id": "e0d35e80-1e7c-4508-83a7-50e33261815e",
   "metadata": {},
   "outputs": [
    {
     "data": {
      "text/plain": [
       "'/glade/derecho/scratch/ksha/CREDIT_data/ERA5_mlevel_1deg/mean_std/std_6h_1979_2019_conserve_1deg.nc'"
      ]
     },
     "execution_count": 17,
     "metadata": {},
     "output_type": "execute_result"
    }
   ],
   "source": [
    "base_dir+'mean_std/std_6h_1979_2019_conserve_1deg.nc'"
   ]
  },
  {
   "cell_type": "code",
   "execution_count": null,
   "id": "a8de4906-cc7a-4435-8c10-518538f2d68e",
   "metadata": {},
   "outputs": [],
   "source": []
  },
  {
   "cell_type": "code",
   "execution_count": 15,
   "id": "4364c620-8b4d-4edf-97b8-82b948711b18",
   "metadata": {},
   "outputs": [
    {
     "name": "stdout",
     "output_type": "stream",
     "text": [
      "=============== MSL =================\n",
      "1330.8846696194373\n",
      "1330.8846696194373\n",
      "=============== SKT =================\n",
      "22.40483815378879\n",
      "22.404838153788788\n",
      "=============== SP =================\n",
      "9597.442621657625\n",
      "9597.442621657625\n",
      "=============== TCC =================\n",
      "0.3491840944157281\n",
      "0.34918409441572806\n",
      "=============== VAR_10U =================\n",
      "5.487526636552918\n",
      "5.487526636552918\n",
      "=============== VAR_10V =================\n",
      "4.71086288032973\n",
      "4.71086288032973\n",
      "=============== VAR_2T =================\n",
      "21.373759417572977\n",
      "21.373759417572977\n",
      "=============== evaporation =================\n",
      "0.0006418363022945283\n",
      "0.0006418363022945283\n",
      "=============== surface_latent_heat_flux =================\n",
      "1604157.7576941664\n",
      "1604157.7576941664\n",
      "=============== surface_net_solar_radiation =================\n",
      "4214109.662542443\n",
      "4214109.662542443\n",
      "=============== surface_net_thermal_radiation =================\n",
      "666310.6177924678\n",
      "666310.6177924678\n",
      "=============== surface_sensible_heat_flux =================\n",
      "917596.9043234516\n",
      "917596.9043234516\n",
      "=============== toa_incident_solar_radiation =================\n",
      "7716263.343614088\n",
      "7716263.343614088\n",
      "=============== top_net_solar_radiation =================\n",
      "5830393.034174383\n",
      "5830393.034174383\n",
      "=============== top_net_thermal_radiation =================\n",
      "1048153.7804762697\n",
      "1048153.7804762697\n",
      "=============== total_precipitation =================\n",
      "0.0017714241278640804\n",
      "0.0017714241278640804\n",
      "=============== land_sea_CI_mask =================\n",
      "0.601523829454437\n",
      "0.6015238294544372\n",
      "=============== specific_total_water =================\n",
      "[5.24473482e-07 7.85626604e-07 8.14858027e-07 6.50368110e-07\n",
      " 3.61295863e-07 1.83309208e-07 1.58468622e-07 2.26006121e-07\n",
      " 2.84569528e-07 3.24106267e-07 3.43363097e-07 3.42992987e-07\n",
      " 3.28159573e-07 3.03314655e-07 2.97706450e-07 3.21692188e-07\n",
      " 3.53091790e-07 3.80038118e-07 4.12217018e-07 5.13552658e-07\n",
      " 6.62940968e-07 1.79160787e-06 6.33768733e-06 2.03058865e-05\n",
      " 4.40422870e-05 1.05021141e-04 1.84506533e-04 3.06370736e-04\n",
      " 4.81408067e-04 7.27912303e-04 1.22804425e-03 1.64354844e-03\n",
      " 2.20238795e-03 2.74297882e-03 3.47067279e-03 3.96916834e-03\n",
      " 4.28970221e-03 4.75094080e-03 5.22079719e-03 5.49079473e-03\n",
      " 5.66026808e-03 5.75647340e-03 5.82966602e-03 5.86682932e-03\n",
      " 5.94418469e-03 6.00773842e-03]\n",
      "[1.47448629e-07 2.18486793e-07 2.69306473e-07 3.18866754e-07\n",
      " 3.39629482e-07 3.44408546e-07 3.02537166e-07 3.06876374e-07\n",
      " 3.60947701e-07 4.06882702e-07 5.69227151e-07 1.18649061e-06\n",
      " 3.76527269e-06 1.00445285e-05 2.24325240e-05 4.32211514e-05\n",
      " 7.34969316e-05 1.66583928e-04 3.09963038e-04 5.04110787e-04\n",
      " 7.55147609e-04 1.07678579e-03 1.45225272e-03 1.76289549e-03\n",
      " 2.10268842e-03 2.53783898e-03 3.03693019e-03 3.29652426e-03\n",
      " 3.55740245e-03 3.82081719e-03 4.09475044e-03 4.38450117e-03\n",
      " 4.69691436e-03 5.06222856e-03 5.49517121e-03 5.78891414e-03\n",
      " 5.90574987e-03]\n",
      "=============== specific_humidity =================\n",
      "[5.24473482e-07 7.85626604e-07 8.14858027e-07 6.50368110e-07\n",
      " 3.61295863e-07 1.83309208e-07 1.58468622e-07 2.26006121e-07\n",
      " 2.84569528e-07 3.24106267e-07 3.43363097e-07 3.42992987e-07\n",
      " 3.28159573e-07 3.03314655e-07 2.97706450e-07 3.21692188e-07\n",
      " 3.53091790e-07 3.80038118e-07 4.12217018e-07 5.13552658e-07\n",
      " 6.62940968e-07 1.79160787e-06 6.33768733e-06 2.03058864e-05\n",
      " 4.40419624e-05 1.04996919e-04 1.84388976e-04 3.05927098e-04\n",
      " 4.80072696e-04 7.24343574e-04 1.21783784e-03 1.63402588e-03\n",
      " 2.19442410e-03 2.73426322e-03 3.46156949e-03 3.96011335e-03\n",
      " 4.28148833e-03 4.74465336e-03 5.21702631e-03 5.48935874e-03\n",
      " 5.65986818e-03 5.75590638e-03 5.82863567e-03 5.86558698e-03\n",
      " 5.94276879e-03 6.00634658e-03]\n",
      "=============== temperature =================\n",
      "[12.57761191 14.63295952 13.97204754 11.76886119  8.49365639  9.71800073\n",
      " 13.80302843 15.30894752 14.64277172 13.69141356 13.14011551 12.61445551\n",
      " 12.0516663  11.51166833 10.97737529 10.40083778 10.25315578 10.76553453\n",
      " 11.68990793 12.71491756 12.07312527 10.18465817  8.19591998  7.28245415\n",
      "  7.74929373  9.67980523 11.37495669 12.71892993 13.61338461 14.16706858\n",
      " 14.58914298 14.81082329 15.22852636 15.56960149 15.97036539 16.25220264\n",
      " 16.45788852 16.87692894 17.41653523 17.82849076 18.29164629 18.7834077\n",
      " 19.54964321 20.06573502 20.80603147 21.08292612]\n",
      "=============== u_component_of_wind =================\n",
      "[24.54406579 30.38408107 36.61299397 40.054771   40.43292847 39.45648301\n",
      " 37.74189406 34.15861164 30.98851732 28.7762614  26.85835664 25.19922695\n",
      " 23.66018601 22.00521476 20.28024373 17.96256549 15.8478241  14.08956424\n",
      " 13.30525528 13.19097954 13.93641024 15.25258886 16.55184854 17.57968032\n",
      " 17.94842925 17.66450565 16.87441641 15.75055653 14.48571669 13.21355535\n",
      " 11.62698169 10.61700516  9.56645471  8.98839158  8.47385116  8.28824882\n",
      "  8.24548365  8.24280986  8.21232902  8.1263061   7.970565    7.74185982\n",
      "  7.27916064  6.88765227  6.04310482  5.44266404]\n",
      "=============== v_component_of_wind =================\n",
      "[11.00158361 11.19625895 11.79010648 12.46863803 13.72021124 14.7233502\n",
      " 14.65781206 13.54066766 12.72436418 12.15395849 11.47935274 10.70903588\n",
      "  9.95057828  9.22180447  8.55534111  7.78186055  7.19473782  6.84690189\n",
      "  6.79509824  7.10577036  7.82699718  8.8424128  10.12329268 11.69220696\n",
      " 12.77769378 13.43886823 13.16970822 12.39854765 11.36987456 10.28141472\n",
      "  8.93237875  8.09773586  7.25493546  6.81670703  6.47450375  6.405974\n",
      "  6.45912613  6.6406792   6.82587185  6.88922094  6.87035439  6.7499581\n",
      "  6.38232276  6.02170886  5.2157105   4.65962057]\n"
     ]
    }
   ],
   "source": [
    "# ------------------------------------------------------- #\n",
    "# Compare with my old ones\n",
    "base_dir_plevel = '/glade/derecho/scratch/ksha/CREDIT_data/ERA5_plevel_1deg/'\n",
    "STD_mlevel = xr.open_dataset(base_dir+'mean_std/std_6h_1979_2019_conserve_1deg.nc')\n",
    "STD_plevel = xr.open_dataset(base_dir_plevel+'mean_std/std_6h_1979_2019_conserve_1deg.nc')\n",
    "\n",
    "for varname in varnames:\n",
    "    try:\n",
    "        print('=============== {} ================='.format(varname))\n",
    "        print(np.array(STD_mlevel[varname]))\n",
    "        print(np.array(STD_plevel[varname]))\n",
    "    except:\n",
    "        pass"
   ]
  },
  {
   "cell_type": "code",
   "execution_count": null,
   "id": "7e10ecef-f0d4-42f6-b081-aaf443f81a6c",
   "metadata": {},
   "outputs": [],
   "source": []
  }
 ],
 "metadata": {
  "kernelspec": {
   "display_name": "Python 3 (ipykernel)",
   "language": "python",
   "name": "python3"
  },
  "language_info": {
   "codemirror_mode": {
    "name": "ipython",
    "version": 3
   },
   "file_extension": ".py",
   "mimetype": "text/x-python",
   "name": "python",
   "nbconvert_exporter": "python",
   "pygments_lexer": "ipython3",
   "version": "3.11.9"
  }
 },
 "nbformat": 4,
 "nbformat_minor": 5
}

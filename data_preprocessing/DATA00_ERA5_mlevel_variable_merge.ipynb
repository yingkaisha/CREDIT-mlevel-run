{
 "cells": [
  {
   "cell_type": "markdown",
   "id": "db5c9679-6152-4554-a65d-9e86b019aacf",
   "metadata": {},
   "source": [
    "# Merge ERA5 1 deg model level and single level variables"
   ]
  },
  {
   "cell_type": "code",
   "execution_count": 46,
   "id": "7e796944-5444-40bf-b1c0-c1cf9fd777ca",
   "metadata": {},
   "outputs": [],
   "source": [
    "import os\n",
    "import sys\n",
    "import yaml\n",
    "import dask\n",
    "import zarr\n",
    "import numpy as np\n",
    "import xarray as xr\n",
    "import pandas as pd\n",
    "from glob import glob\n",
    "\n",
    "import calendar\n",
    "from datetime import datetime, timedelta\n",
    "from dateutil.relativedelta import relativedelta\n",
    "\n",
    "sys.path.insert(0, os.path.realpath('../libs/'))\n",
    "import verif_utils as vu"
   ]
  },
  {
   "cell_type": "code",
   "execution_count": 54,
   "id": "46d5eae1-841d-476d-ae65-7a5aa03a9c02",
   "metadata": {},
   "outputs": [],
   "source": [
    "import matplotlib.pyplot as plt\n",
    "%matplotlib inline"
   ]
  },
  {
   "cell_type": "code",
   "execution_count": 47,
   "id": "b5031f84-d284-447e-ac3b-de86f40f8870",
   "metadata": {},
   "outputs": [],
   "source": [
    "base_dir_mlevel = '/glade/derecho/scratch/ksha/CREDIT_data/ERA5_mlevel_1deg/'\n",
    "base_dir_plevel = '/glade/derecho/scratch/ksha/CREDIT_data/ERA5_plevel_1deg/'\n",
    "base_dir_output = base_dir_mlevel"
   ]
  },
  {
   "cell_type": "code",
   "execution_count": 48,
   "id": "ab7754b4-6703-404f-9728-d58a17f4987f",
   "metadata": {},
   "outputs": [],
   "source": [
    "fn_fmt_mlevel = base_dir_mlevel + 'upper_air/ERA5_mlevel_1deg_6h_{}_conserve.zarr'\n",
    "fn_fmt_cloud = base_dir_mlevel + 'cloud/ERA5_mlevel_1deg_6h_cloud_{}_conserve.zarr'\n",
    "fn_fmt_plevel = base_dir_plevel + 'all_in_one/ERA5_plevel_1deg_6h_{}_conserve.zarr'\n",
    "fn_mean_std = '/glade/derecho/scratch/ksha/CREDIT_data/mean_6h_1979_2018_16lev_0.25deg.nc'"
   ]
  },
  {
   "cell_type": "code",
   "execution_count": 49,
   "id": "e50fb39e-5b5e-42e7-98aa-29ce8c77d049",
   "metadata": {},
   "outputs": [],
   "source": [
    "mlevel_picks = [1, 2, 4, 6, 9, 12, 15, 18, 21, 24, 27, \n",
    "                30, 33, 36, 39, 43, 47, 51, 54, 58, 62,\n",
    "                66, 70, 74, 77, 81, 84, 87, 90, 93, 97, \n",
    "                100, 104, 107, 111, 114, 116, 119, 122, \n",
    "                124, 126, 128, 131, 133, 136, 137]\n",
    "\n",
    "var_mlevel = {\n",
    "    'specific_humidity': mlevel_picks,\n",
    "    'temperature': mlevel_picks,\n",
    "    'u_component_of_wind': mlevel_picks,\n",
    "    'v_component_of_wind': mlevel_picks\n",
    "}\n",
    "\n",
    "var_cloud = {\n",
    "    'specific_cloud_liquid_water_content': mlevel_picks,\n",
    "    'specific_rain_water_content': mlevel_picks,\n",
    "}\n",
    "\n",
    "chunk_size_3d = {\n",
    "    'time': 10,\n",
    "    'latitude': 181,\n",
    "    'longitude': 360\n",
    "}\n",
    "\n",
    "chunk_size_4d = {\n",
    "    'time': 10,\n",
    "    'level': 46,\n",
    "    'latitude': 181,\n",
    "    'longitude': 360\n",
    "}\n",
    "\n",
    "encode_size_3d = dict(\n",
    "    chunks=(\n",
    "        chunk_size_3d['time'],\n",
    "        chunk_size_3d['latitude'],\n",
    "        chunk_size_3d['longitude']\n",
    "    )\n",
    ")\n",
    "\n",
    "encode_size_4d = dict(\n",
    "    chunks=(\n",
    "        chunk_size_4d['time'],\n",
    "        chunk_size_4d['level'],\n",
    "        chunk_size_4d['latitude'],\n",
    "        chunk_size_4d['longitude']\n",
    "    )\n",
    ")"
   ]
  },
  {
   "cell_type": "markdown",
   "id": "774aa6a3-1c87-4f66-9e98-c9a9a792c7c4",
   "metadata": {},
   "source": [
    "### Main routine"
   ]
  },
  {
   "cell_type": "code",
   "execution_count": 50,
   "id": "1c48c91f-6137-45c1-a5dd-380e143848b2",
   "metadata": {},
   "outputs": [],
   "source": [
    "year = 2020\n",
    "\n",
    "ds_mlevel = xr.open_zarr(fn_fmt_mlevel.format(year))\n",
    "ds_mlevel_sub = vu.ds_subset_everything(ds_mlevel, var_mlevel)\n",
    "\n",
    "ds_cloud = xr.open_zarr(fn_fmt_cloud.format(year))\n",
    "ds_cloud_sub = vu.ds_subset_everything(ds_cloud, var_cloud)\n",
    "\n",
    "Q = ds_mlevel_sub['specific_humidity'] + \\\n",
    "    ds_cloud_sub['specific_cloud_liquid_water_content'] + \\\n",
    "    ds_cloud_sub['specific_rain_water_content']\n",
    "\n",
    "ds_mlevel_sub['specific_total_water'] = Q\n",
    "\n",
    "ds_plevel = xr.open_zarr(fn_fmt_plevel.format(year))\n",
    "ds_plevel_sub = ds_plevel.drop_vars(['U', 'V', 'T', 'Q', 'Z', 'specific_total_water'])\n",
    "\n",
    "ds_plevel_sub = ds_plevel_sub.drop_vars(['level',])\n",
    "ds_merge = xr.merge([ds_mlevel_sub, ds_plevel_sub])\n",
    "\n",
    "varnames = list(ds_merge.keys())\n",
    "varname_4D = [\n",
    "    'specific_humidity',\n",
    "    'temperature',\n",
    "    'u_component_of_wind',\n",
    "    'v_component_of_wind',\n",
    "    'specific_total_water'\n",
    "]\n",
    "\n",
    "for i_var, var in enumerate(varnames):\n",
    "    if var in varname_4D:\n",
    "        ds_merge[var] = ds_merge[var].chunk(chunk_size_4d)\n",
    "    else:\n",
    "        ds_merge[var] = ds_merge[var].chunk(chunk_size_3d)\n",
    "\n",
    "dict_encoding = {}\n",
    "\n",
    "compress = zarr.Blosc(cname='zstd', clevel=1, shuffle=zarr.Blosc.SHUFFLE, blocksize=0)\n",
    "\n",
    "for i_var, var in enumerate(varnames):\n",
    "    if var in varname_4D:\n",
    "        dict_encoding[var] = {'compressor': compress, **encode_size_4d}\n",
    "    else:\n",
    "        dict_encoding[var] = {'compressor': compress, **encode_size_3d}\n",
    "\n",
    "save_name = base_dir_output + 'all_in_one/ERA5_mlevel_1deg_6h_subset_{}_conserve.zarr'.format(year)\n",
    "# ds_merge.to_zarr(save_name, mode='w', consolidated=True, compute=True, encoding=dict_encoding)"
   ]
  },
  {
   "cell_type": "code",
   "execution_count": null,
   "id": "9fa6a643-5ac3-4300-9954-5a8dc9a702db",
   "metadata": {},
   "outputs": [],
   "source": []
  },
  {
   "cell_type": "markdown",
   "id": "170f8612-1332-4238-ba24-aec4d860ca78",
   "metadata": {},
   "source": [
    "### Static file"
   ]
  },
  {
   "cell_type": "code",
   "execution_count": 36,
   "id": "8d35ab78-dc99-4d17-bbc6-f27980d26fa1",
   "metadata": {},
   "outputs": [],
   "source": [
    "fn_fmt_static = base_dir_mlevel + 'static/ERA5_mlevel_1deg_6h_conserve_static.zarr'"
   ]
  },
  {
   "cell_type": "code",
   "execution_count": 37,
   "id": "768bcafa-7002-4522-b28b-0bb426c9346a",
   "metadata": {},
   "outputs": [],
   "source": [
    "chunk_size_2d = {\n",
    "    'latitude': 181,\n",
    "    'longitude': 360\n",
    "}\n",
    "\n",
    "chunk_size_1d = {'level': 46}\n",
    "\n",
    "encode_size_2d = dict(\n",
    "    chunks=(\n",
    "        chunk_size_2d['latitude'],\n",
    "        chunk_size_2d['longitude']\n",
    "    )\n",
    ")\n",
    "\n",
    "encode_size_1d = dict(\n",
    "    chunks=(\n",
    "        chunk_size_4d['level'],\n",
    "    )\n",
    ")"
   ]
  },
  {
   "cell_type": "code",
   "execution_count": 38,
   "id": "5c7d0bb7-bf5c-4f79-a789-c61685594e70",
   "metadata": {},
   "outputs": [],
   "source": [
    "ds_static = xr.open_zarr(fn_fmt_static)\n",
    "\n",
    "ds_static['half_level'] = ds_static['half_level'].values - 1\n",
    "ds_static = ds_static.sel(half_level=mlevel_picks)\n",
    "ds_static = ds_static.rename({'half_level': 'level'})\n",
    "ds_static = ds_static.astype({var: 'float32' for var in ds_static.data_vars})\n",
    "\n",
    "varnames = list(ds_static.keys())\n",
    "varname_1d = ['coef_a', 'coef_b']\n",
    "\n",
    "dict_encoding = {}\n",
    "    \n",
    "compress = zarr.Blosc(cname='zstd', clevel=1, shuffle=zarr.Blosc.SHUFFLE, blocksize=0)\n",
    "    \n",
    "for i_var, var in enumerate(varnames):\n",
    "    if var in varname_1d:\n",
    "        dict_encoding[var] = {'compressor': compress, **encode_size_1d}\n",
    "    else:\n",
    "        dict_encoding[var] = {'compressor': compress, **encode_size_2d}\n",
    "\n",
    "save_name = base_dir_output + 'static/ERA5_mlevel_1deg_static_subset.zarr'\n",
    "# ds_static.to_zarr(save_name, mode='w', consolidated=True, compute=True, encoding=dict_encoding)"
   ]
  },
  {
   "cell_type": "code",
   "execution_count": null,
   "id": "e19c697a-039a-4625-9a7b-63d629e842b5",
   "metadata": {},
   "outputs": [],
   "source": []
  }
 ],
 "metadata": {
  "kernelspec": {
   "display_name": "Python 3 (ipykernel)",
   "language": "python",
   "name": "python3"
  },
  "language_info": {
   "codemirror_mode": {
    "name": "ipython",
    "version": 3
   },
   "file_extension": ".py",
   "mimetype": "text/x-python",
   "name": "python",
   "nbconvert_exporter": "python",
   "pygments_lexer": "ipython3",
   "version": "3.11.9"
  }
 },
 "nbformat": 4,
 "nbformat_minor": 5
}
